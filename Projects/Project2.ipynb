{
 "cells": [
  {
   "cell_type": "markdown",
   "id": "56658529",
   "metadata": {},
   "source": [
    "# House Price Estimator "
   ]
  },
  {
   "cell_type": "markdown",
   "id": "c6155720",
   "metadata": {},
   "source": [
    "Building a model for predicting the price of the house on features basis (size , bedroom , location)     "
   ]
  },
  {
   "cell_type": "code",
   "execution_count": 1,
   "id": "93c06579",
   "metadata": {},
   "outputs": [
    {
     "data": {
      "text/html": [
       "<div>\n",
       "<style scoped>\n",
       "    .dataframe tbody tr th:only-of-type {\n",
       "        vertical-align: middle;\n",
       "    }\n",
       "\n",
       "    .dataframe tbody tr th {\n",
       "        vertical-align: top;\n",
       "    }\n",
       "\n",
       "    .dataframe thead th {\n",
       "        text-align: right;\n",
       "    }\n",
       "</style>\n",
       "<table border=\"1\" class=\"dataframe\">\n",
       "  <thead>\n",
       "    <tr style=\"text-align: right;\">\n",
       "      <th></th>\n",
       "      <th>House_Size</th>\n",
       "      <th>House_Price</th>\n",
       "    </tr>\n",
       "  </thead>\n",
       "  <tbody>\n",
       "    <tr>\n",
       "      <th>1</th>\n",
       "      <td>[1000, 2, 1]</td>\n",
       "      <td>5000000</td>\n",
       "    </tr>\n",
       "    <tr>\n",
       "      <th>2</th>\n",
       "      <td>[2000, 4, 2]</td>\n",
       "      <td>10000000</td>\n",
       "    </tr>\n",
       "    <tr>\n",
       "      <th>3</th>\n",
       "      <td>[3000, 7, 3]</td>\n",
       "      <td>15000000</td>\n",
       "    </tr>\n",
       "    <tr>\n",
       "      <th>4</th>\n",
       "      <td>[4000, 8, 4]</td>\n",
       "      <td>20000000</td>\n",
       "    </tr>\n",
       "    <tr>\n",
       "      <th>5</th>\n",
       "      <td>[5000, 10, 5]</td>\n",
       "      <td>25000000</td>\n",
       "    </tr>\n",
       "  </tbody>\n",
       "</table>\n",
       "</div>"
      ],
      "text/plain": [
       "      House_Size  House_Price\n",
       "1   [1000, 2, 1]      5000000\n",
       "2   [2000, 4, 2]     10000000\n",
       "3   [3000, 7, 3]     15000000\n",
       "4   [4000, 8, 4]     20000000\n",
       "5  [5000, 10, 5]     25000000"
      ]
     },
     "execution_count": 1,
     "metadata": {},
     "output_type": "execute_result"
    }
   ],
   "source": [
    "from sklearn.model_selection import train_test_split \n",
    "from sklearn.linear_model import LinearRegression \n",
    "import matplotlib.pyplot as plt     \n",
    "import seaborn as sns \n",
    "import pandas as pd \n",
    "\n",
    "\"\"\"\n",
    "This model predicts the price(target) of the house on the basis of features such as \n",
    "size , bedrooms , locations \n",
    "\n",
    "\"\"\"\n",
    "                                                                                                                                                                                                                                                                                                                                 \n",
    "House_Price_Estimator = {\n",
    "           \"House_Size\": [[1000 , 2 , 1] , \n",
    "                          [2000 , 4 , 2] , \n",
    "                          [3000 , 7 , 3] , \n",
    "                          [4000 , 8 , 4] , \n",
    "                          [5000 , 10 , 5]],  \n",
    "           \"House_Price\": [5000000 , 10000000 , 15000000 , 20000000 , 25000000]          \n",
    "}                       \n",
    "                                                                                                                                                                                                                                                                                 \n",
    "df = pd.DataFrame(House_Price_Estimator , index = [1 , 2 , 3 , 4 , 5])            \n",
    "\n",
    "X = pd.DataFrame(df[\"House_Size\"].tolist() , columns = [\"Size\" , \"Bedrooms\" , \"Location\"])  # Splits 1D dataframe into three features(size , bedroom , location) \n",
    "\n",
    "y = df[\"House_Price\"] \n",
    "\n",
    "X_train,X_test,y_train,y_test = train_test_split(X , y , test_size = 0.2 , random_state = 50)\n",
    "\n",
    "model = LinearRegression()  \n",
    "\n",
    "model.fit(X_train , y_train) \n",
    "\n",
    "df \n"
   ]
  },
  {
   "cell_type": "code",
   "execution_count": 2,
   "id": "ec6a6d0f",
   "metadata": {},
   "outputs": [
    {
     "name": "stdout",
     "output_type": "stream",
     "text": [
      "House price estimate: INR 22500017.499982502 \n"
     ]
    }
   ],
   "source": [
    "Size = float(input(\"Enter the size of the house: \")) \n",
    "Bedroom = int(input(\"Enter the number of bedrooms: \")) \n",
    "Location = int(input(\"Enter the location of the house: \"))  \n",
    "\n",
    "new_house = pd.DataFrame([[Size , Bedroom , Location]] , columns = [\"Size\" , \"Bedrooms\" , \"Location\"]) \n",
    "\n",
    "Estimate = model.predict(new_house) \n",
    "print(f\"House price estimate: INR {Estimate[0]} \") "
   ]
  },
  {
   "cell_type": "code",
   "execution_count": 3,
   "id": "99c69a22",
   "metadata": {},
   "outputs": [
    {
     "data": {
      "image/png": "[encoded data removed]",
      "text/plain": [
       "<Figure size 640x480 with 1 Axes>"
      ]
     },
     "metadata": {},
     "output_type": "display_data"
    },
    {
     "data": {
      "text/html": [
       "<div>\n",
       "<style scoped>\n",
       "    .dataframe tbody tr th:only-of-type {\n",
       "        vertical-align: middle;\n",
       "    }\n",
       "\n",
       "    .dataframe tbody tr th {\n",
       "        vertical-align: top;\n",
       "    }\n",
       "\n",
       "    .dataframe thead th {\n",
       "        text-align: right;\n",
       "    }\n",
       "</style>\n",
       "<table border=\"1\" class=\"dataframe\">\n",
       "  <thead>\n",
       "    <tr style=\"text-align: right;\">\n",
       "      <th></th>\n",
       "      <th>Size</th>\n",
       "      <th>Bedroom</th>\n",
       "      <th>Location</th>\n",
       "      <th>House_Price</th>\n",
       "    </tr>\n",
       "  </thead>\n",
       "  <tbody>\n",
       "    <tr>\n",
       "      <th>1</th>\n",
       "      <td>1000</td>\n",
       "      <td>2</td>\n",
       "      <td>1</td>\n",
       "      <td>5000000</td>\n",
       "    </tr>\n",
       "    <tr>\n",
       "      <th>2</th>\n",
       "      <td>2000</td>\n",
       "      <td>4</td>\n",
       "      <td>2</td>\n",
       "      <td>10000000</td>\n",
       "    </tr>\n",
       "    <tr>\n",
       "      <th>3</th>\n",
       "      <td>3000</td>\n",
       "      <td>7</td>\n",
       "      <td>3</td>\n",
       "      <td>15000000</td>\n",
       "    </tr>\n",
       "    <tr>\n",
       "      <th>4</th>\n",
       "      <td>4000</td>\n",
       "      <td>8</td>\n",
       "      <td>4</td>\n",
       "      <td>20000000</td>\n",
       "    </tr>\n",
       "    <tr>\n",
       "      <th>5</th>\n",
       "      <td>5000</td>\n",
       "      <td>10</td>\n",
       "      <td>5</td>\n",
       "      <td>25000000</td>\n",
       "    </tr>\n",
       "  </tbody>\n",
       "</table>\n",
       "</div>"
      ],
      "text/plain": [
       "   Size  Bedroom  Location  House_Price\n",
       "1  1000        2         1      5000000\n",
       "2  2000        4         2     10000000\n",
       "3  3000        7         3     15000000\n",
       "4  4000        8         4     20000000\n",
       "5  5000       10         5     25000000"
      ]
     },
     "execution_count": 3,
     "metadata": {},
     "output_type": "execute_result"
    }
   ],
   "source": [
    "df_expanded = pd.DataFrame(df[\"House_Size\"].tolist() , columns = [\"Size\" , \"Bedroom\" , \"Location\"] , index = [1,2,3,4,5])\n",
    "\n",
    "df_expanded[\"House_Price\"] = df[\"House_Price\"] \n",
    "\n",
    "sns.barplot(x = \"Size\" , y = \"House_Price\" , data = df_expanded , color = \"red\") \n",
    "plt.show() \n",
    "df_expanded"
   ]
  },
  {
   "cell_type": "code",
   "execution_count": 4,
   "id": "0d00e46d",
   "metadata": {},
   "outputs": [
    {
     "data": {
      "image/png": "[encoded data removed]",
      "text/plain": [
       "<Figure size 640x480 with 1 Axes>"
      ]
     },
     "metadata": {},
     "output_type": "display_data"
    }
   ],
   "source": [
    "sns.barplot(x = \"Bedroom\" , y = \"House_Price\" , data = df_expanded) \n",
    "plt.show()"
   ]
  },
  {
   "cell_type": "code",
   "execution_count": 5,
   "id": "6f643717",
   "metadata": {},
   "outputs": [
    {
     "data": {
      "image/png": "[encoded data removed]",
      "text/plain": [
       "<Figure size 640x480 with 1 Axes>"
      ]
     },
     "metadata": {},
     "output_type": "display_data"
    }
   ],
   "source": [
    "sns.barplot(x = \"Location\" , y = \"House_Price\" , data = df_expanded , color = \"green\") \n",
    "plt.show() "
   ]
  }
 ],
 "metadata": {
  "kernelspec": {
   "display_name": "Python 3",
   "language": "python",
   "name": "python3"
  },
  "language_info": {
   "codemirror_mode": {
    "name": "ipython",
    "version": 3
   },
   "file_extension": ".py",
   "mimetype": "text/x-python",
   "name": "python",
   "nbconvert_exporter": "python",
   "pygments_lexer": "ipython3",
   "version": "3.11.11"
  }
 },
 "nbformat": 4,
 "nbformat_minor": 5
}
