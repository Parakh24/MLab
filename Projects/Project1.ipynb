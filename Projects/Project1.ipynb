{
 "cells": [
  {
   "cell_type": "markdown",
   "id": "13e41413",
   "metadata": {},
   "source": [
    "# Student Performance Predictor"
   ]
  },
  {
   "cell_type": "markdown",
   "id": "edb19a56",
   "metadata": {},
   "source": [
    "Building a model that predicts Student's Performance on the number of hours studied "
   ]
  },
  {
   "cell_type": "code",
   "execution_count": 1,
   "id": "9eed6ab9",
   "metadata": {},
   "outputs": [
    {
     "data": {
      "text/html": [
       "<div>\n",
       "<style scoped>\n",
       "    .dataframe tbody tr th:only-of-type {\n",
       "        vertical-align: middle;\n",
       "    }\n",
       "\n",
       "    .dataframe tbody tr th {\n",
       "        vertical-align: top;\n",
       "    }\n",
       "\n",
       "    .dataframe thead th {\n",
       "        text-align: right;\n",
       "    }\n",
       "</style>\n",
       "<table border=\"1\" class=\"dataframe\">\n",
       "  <thead>\n",
       "    <tr style=\"text-align: right;\">\n",
       "      <th></th>\n",
       "      <th>Study_Hours</th>\n",
       "      <th>Pass_Fail</th>\n",
       "    </tr>\n",
       "  </thead>\n",
       "  <tbody>\n",
       "    <tr>\n",
       "      <th>1</th>\n",
       "      <td>1.0</td>\n",
       "      <td>0</td>\n",
       "    </tr>\n",
       "    <tr>\n",
       "      <th>2</th>\n",
       "      <td>1.5</td>\n",
       "      <td>0</td>\n",
       "    </tr>\n",
       "    <tr>\n",
       "      <th>3</th>\n",
       "      <td>1.8</td>\n",
       "      <td>0</td>\n",
       "    </tr>\n",
       "    <tr>\n",
       "      <th>4</th>\n",
       "      <td>2.0</td>\n",
       "      <td>0</td>\n",
       "    </tr>\n",
       "    <tr>\n",
       "      <th>5</th>\n",
       "      <td>2.6</td>\n",
       "      <td>0</td>\n",
       "    </tr>\n",
       "    <tr>\n",
       "      <th>6</th>\n",
       "      <td>2.8</td>\n",
       "      <td>0</td>\n",
       "    </tr>\n",
       "    <tr>\n",
       "      <th>7</th>\n",
       "      <td>3.0</td>\n",
       "      <td>1</td>\n",
       "    </tr>\n",
       "    <tr>\n",
       "      <th>8</th>\n",
       "      <td>3.4</td>\n",
       "      <td>1</td>\n",
       "    </tr>\n",
       "    <tr>\n",
       "      <th>9</th>\n",
       "      <td>3.6</td>\n",
       "      <td>1</td>\n",
       "    </tr>\n",
       "    <tr>\n",
       "      <th>10</th>\n",
       "      <td>3.9</td>\n",
       "      <td>1</td>\n",
       "    </tr>\n",
       "    <tr>\n",
       "      <th>11</th>\n",
       "      <td>4.0</td>\n",
       "      <td>1</td>\n",
       "    </tr>\n",
       "  </tbody>\n",
       "</table>\n",
       "</div>"
      ],
      "text/plain": [
       "    Study_Hours  Pass_Fail\n",
       "1           1.0          0\n",
       "2           1.5          0\n",
       "3           1.8          0\n",
       "4           2.0          0\n",
       "5           2.6          0\n",
       "6           2.8          0\n",
       "7           3.0          1\n",
       "8           3.4          1\n",
       "9           3.6          1\n",
       "10          3.9          1\n",
       "11          4.0          1"
      ]
     },
     "execution_count": 1,
     "metadata": {},
     "output_type": "execute_result"
    }
   ],
   "source": [
    "from sklearn.model_selection import train_test_split                                      \n",
    "from sklearn.linear_model import LogisticRegression  \n",
    "import matplotlib.pyplot as plt                        \n",
    "import pandas as pd                                                                                    \n",
    "\n",
    "\"\"\" \n",
    "This Model is Designed to predict the Student's performance on the basis of number of hours of study  \n",
    "using Logistic Regression. \n",
    "\n",
    "- 'Study_Hours': number of hours studied   \n",
    "- 'Pass_Fail': 1 if passed, 0 if failed    \n",
    "\n",
    "\"\"\"   \n",
    "Student_Performance_Predictor = { \n",
    "\n",
    "    \"Study_Hours\": [1 , 1.5 , 1.8 , 2.0 , 2.6 , 2.8 , 3 , 3.4 , 3.6 , 3.9 , 4.0], #Study_Hours stores the number of hours student studying for the exam \n",
    "\n",
    "    \"Pass_Fail\":   [0 , 0 , 0 , 0 , 0 , 0 , 1 , 1 , 1 , 1 , 1]    #Pass_Fail variable stores whether the student passed(1) or failed(0) \n",
    "\n",
    "    }                        \n",
    "\n",
    "df = pd.DataFrame(Student_Performance_Predictor , index = [1,2,3,4,5,6,7,8,9,10,11]) # Creating a DataFrame for the performance_predictor    \n",
    "\n",
    "\n",
    "X = df[[\"Study_Hours\"]]       \n",
    "y = df[\"Pass_Fail\"]               \n",
    "\n",
    "X_train,X_test,y_train,y_test = train_test_split(X , y , test_size = 0.2 , random_state = 53) \n",
    "\"\"\"\n",
    "Test_Size = 0.2 -> Testing the 20% Dataset\n",
    "\n",
    "Training_Size -> Training the Remaining 80% Dataset \n",
    "\n",
    "Random_State -> choosing the dataset randomly for training and testing\n",
    "\n",
    "\"\"\"         \n",
    "model = LogisticRegression()                                                                  \n",
    "               \n",
    "model.fit(X_train,y_train)  \n",
    "                              \n",
    "y_pred = model.predict(X_test) \n",
    "\n",
    "df\n"
   ]
  },
  {
   "cell_type": "code",
   "execution_count": 3,
   "id": "06150f31",
   "metadata": {},
   "outputs": [
    {
     "name": "stdout",
     "output_type": "stream",
     "text": [
      "The Student passed the examination\n"
     ]
    }
   ],
   "source": [
    "new_study_hour = float(input(\"Enter the number of hours of studying: \")) \n",
    "\n",
    "df = pd.DataFrame([[new_study_hour]] , columns = [\"Study_Hours\"]) \n",
    "\n",
    "x = model.predict(df)                                              \n",
    "                   \n",
    "if x == 1:\n",
    "\n",
    "    print(\"The Student passed the examination\")             \n",
    "\n",
    "else:                                          \n",
    " \n",
    "    print(\"The Student failed the examination\")             \n"
   ]
  },
  {
   "cell_type": "code",
   "execution_count": 4,
   "id": "22a8d91c",
   "metadata": {},
   "outputs": [
    {
     "data": {
      "image/png": "[encoded data removed]",
      "text/plain": [
       "<Figure size 640x480 with 1 Axes>"
      ]
     },
     "metadata": {},
     "output_type": "display_data"
    }
   ],
   "source": [
    "x_1 = plt.plot(X , y , color = \"red\" , marker = \"o\" , mec = \"gray\" , mfc = \"black\" , linewidth = 3 , ms = 6 , alpha = 0.8)   \n",
    "plt.xlabel(\"Study_Hours\")\n",
    "plt.ylabel(\"Outcome\")\n",
    "plt.title(\"Performance Predictor\")             \n",
    "plt.show()                                                                                                                                                "
   ]
  }
 ],
 "metadata": {
  "kernelspec": {
   "display_name": "Python 3",
   "language": "python",
   "name": "python3"
  },
  "language_info": {
   "codemirror_mode": {
    "name": "ipython",
    "version": 3
   },
   "file_extension": ".py",
   "mimetype": "text/x-python",
   "name": "python",
   "nbconvert_exporter": "python",
   "pygments_lexer": "ipython3",
   "version": "3.11.11"
  }
 },
 "nbformat": 4,
 "nbformat_minor": 5
}
