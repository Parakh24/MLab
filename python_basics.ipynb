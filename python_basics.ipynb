{
 "cells": [
  {
   "cell_type": "markdown",
   "id": "e55efcb5-6b92-45b5-a774-0abbe369ea79",
   "metadata": {},
   "source": [
    "**List**\n",
    "\n",
    "1. It is used to store multiple items in it.\n",
    "2. It allows duplicate values.\n",
    "3. It is ordered.\n",
    "4. It is mutable.\n",
    "5. It is denoted by []."
   ]
  },
  {
   "cell_type": "code",
   "execution_count": 24,
   "id": "a95bcbf0-7c9e-4918-a099-13fa8bd96c56",
   "metadata": {},
   "outputs": [
    {
     "name": "stdout",
     "output_type": "stream",
     "text": [
      "['Apple', 'Mango', 'Orange', 'Banana', 'Papaya', 'Apple', 'Orange']\n"
     ]
    },
    {
     "data": {
      "text/plain": [
       "list"
      ]
     },
     "execution_count": 24,
     "metadata": {},
     "output_type": "execute_result"
    }
   ],
   "source": [
    "fruit = ['Apple' , 'Mango' , 'Orange' , 'Banana' , 'Papaya' , 'Apple' , 'Orange']\n",
    "print(fruit)\n",
    "type(fruit)      "
   ]
  },
  {
   "cell_type": "code",
   "execution_count": 31,
   "id": "0fc62e90-9ce3-46a5-8d6e-a83c1cde831c",
   "metadata": {},
   "outputs": [
    {
     "data": {
      "text/plain": [
       "'Apple'"
      ]
     },
     "execution_count": 31,
     "metadata": {},
     "output_type": "execute_result"
    }
   ],
   "source": [
    "#Indexing\n",
    "fruit[0]"
   ]
  },
  {
   "cell_type": "code",
   "execution_count": 33,
   "id": "528ddeee-2726-4274-ba5f-f05a45274785",
   "metadata": {},
   "outputs": [
    {
     "data": {
      "text/plain": [
       "'Papaya'"
      ]
     },
     "execution_count": 33,
     "metadata": {},
     "output_type": "execute_result"
    }
   ],
   "source": [
    "fruit[4]"
   ]
  },
  {
   "cell_type": "code",
   "execution_count": 49,
   "id": "8dee326a-aa68-4809-b850-8881c1db0954",
   "metadata": {},
   "outputs": [
    {
     "data": {
      "text/plain": [
       "['Apple', 'Mango', 'Orange', 'Banana']"
      ]
     },
     "execution_count": 49,
     "metadata": {},
     "output_type": "execute_result"
    }
   ],
   "source": [
    "#Slicing\n",
    "fruit[0:4] "
   ]
  },
  {
   "cell_type": "code",
   "execution_count": 51,
   "id": "f7735490-d93a-48d4-a0f3-0cee3439c1bd",
   "metadata": {},
   "outputs": [
    {
     "data": {
      "text/plain": [
       "['Apple', 'Mango', 'Orange', 'Banana', 'Papaya', 'Apple', 'Orange']"
      ]
     },
     "execution_count": 51,
     "metadata": {},
     "output_type": "execute_result"
    }
   ],
   "source": [
    "fruit[:]"
   ]
  },
  {
   "cell_type": "code",
   "execution_count": 53,
   "id": "da61efb1-c252-4516-a295-66a7f92e39b2",
   "metadata": {},
   "outputs": [
    {
     "data": {
      "text/plain": [
       "['Orange', 'Banana', 'Papaya', 'Apple', 'Orange']"
      ]
     },
     "execution_count": 53,
     "metadata": {},
     "output_type": "execute_result"
    }
   ],
   "source": [
    "fruit[2:]"
   ]
  },
  {
   "cell_type": "code",
   "execution_count": 55,
   "id": "26835ee0-c09c-4efd-b717-ae2e514a39f6",
   "metadata": {},
   "outputs": [
    {
     "data": {
      "text/plain": [
       "[]"
      ]
     },
     "execution_count": 55,
     "metadata": {},
     "output_type": "execute_result"
    }
   ],
   "source": [
    "fruit[2:0] "
   ]
  },
  {
   "cell_type": "code",
   "execution_count": null,
   "id": "046f65ca-718b-4de5-ab34-3b5b5645dba6",
   "metadata": {},
   "outputs": [
    {
     "name": "stdout",
     "output_type": "stream",
     "text": [
      "['Apple', 'Mango', 'Orange', 'Banana', 'Papaya', 'Apple', 'Orange']\n"
     ]
    }
   ],
   "source": [
    "print(fruit) "
   ]
  },
  {
   "cell_type": "code",
   "execution_count": 69,
   "id": "57c33e48-dd74-46c9-88b9-7253d6e2f471",
   "metadata": {},
   "outputs": [
    {
     "name": "stdout",
     "output_type": "stream",
     "text": [
      "['Apple', 'Mango', 345, 'Banana', 'Papaya', 'Apple', 'Orange', 'Grapes', 'Grapes', 'Grapes']\n"
     ]
    }
   ],
   "source": [
    "#Updation Operation  \n",
    "fruit[2] = 345                         \n",
    "print(fruit)  "
   ]
  },
  {
   "cell_type": "code",
   "execution_count": null,
   "id": "bc6029a0-583d-496f-93d5-d02e330115a4",
   "metadata": {},
   "outputs": [
    {
     "data": {
      "text/plain": [
       "'Grapes'"
      ]
     },
     "execution_count": 71,
     "metadata": {},
     "output_type": "execute_result"
    }
   ],
   "source": [
    "fruit.pop()   "
   ]
  },
  {
   "cell_type": "code",
   "execution_count": null,
   "id": "c5192254-8e56-4027-a399-5d48da57cbca",
   "metadata": {},
   "outputs": [
    {
     "name": "stdout",
     "output_type": "stream",
     "text": [
      "['Apple', 'Mango', 345, 'Banana', 'Papaya', 'Apple', 'Orange', 'Grapes', 'Grapes']\n"
     ]
    }
   ],
   "source": [
    "print(fruit)  "
   ]
  },
  {
   "cell_type": "code",
   "execution_count": 75,
   "id": "42e242b2-0212-4635-8a83-7f28cd4a314a",
   "metadata": {},
   "outputs": [
    {
     "data": {
      "text/plain": [
       "'Grapes'"
      ]
     },
     "execution_count": 75,
     "metadata": {},
     "output_type": "execute_result"
    }
   ],
   "source": [
    "fruit.pop() "
   ]
  },
  {
   "cell_type": "code",
   "execution_count": null,
   "id": "29621f13-06db-4986-88aa-6ec8a093d79c",
   "metadata": {},
   "outputs": [
    {
     "name": "stdout",
     "output_type": "stream",
     "text": [
      "['Apple', 'Mango', 345, 'Banana', 'Papaya', 'Apple', 'Orange', 'Grapes']\n"
     ]
    }
   ],
   "source": [
    "print(fruit) "
   ]
  },
  {
   "cell_type": "code",
   "execution_count": 79,
   "id": "0024ee1a-55cd-40b9-95ec-ddf9abb9aca3",
   "metadata": {},
   "outputs": [],
   "source": [
    "\n",
    "fruit.remove(\"Mango\")"
   ]
  },
  {
   "cell_type": "code",
   "execution_count": 81,
   "id": "2d9ccaf7-e43e-4583-acbd-553b7b041926",
   "metadata": {},
   "outputs": [
    {
     "name": "stdout",
     "output_type": "stream",
     "text": [
      "['Apple', 345, 'Banana', 'Papaya', 'Apple', 'Orange', 'Grapes']\n"
     ]
    }
   ],
   "source": [
    "print(fruit)"
   ]
  },
  {
   "cell_type": "code",
   "execution_count": 83,
   "id": "021cd18f-5072-47a5-919c-c84b0c0b815a",
   "metadata": {},
   "outputs": [
    {
     "name": "stdout",
     "output_type": "stream",
     "text": [
      "[]\n"
     ]
    }
   ],
   "source": [
    "#clears the entire lists\n",
    "fruit.clear()\n",
    "print(fruit)"
   ]
  },
  {
   "cell_type": "code",
   "execution_count": 85,
   "id": "6453e59f-e224-4197-baca-73526f53a855",
   "metadata": {},
   "outputs": [],
   "source": [
    "#deletes the entire variable\n",
    "del fruit"
   ]
  },
  {
   "cell_type": "code",
   "execution_count": 5,
   "id": "a02d2033",
   "metadata": {},
   "outputs": [
    {
     "name": "stdout",
     "output_type": "stream",
     "text": [
      "['monkey', 'lion', 'tiger', 'elephant', 'donkey', 'giraffe', 'rhynocerus']\n"
     ]
    }
   ],
   "source": [
    "animal = [\"monkey\" , \"lion\" , \"tiger\" , \"elephant\" , \"donkey\" , \"giraffe\"]\n",
    "animal.append(\"rhynocerus\") \n",
    "print(animal)   "
   ]
  },
  {
   "cell_type": "code",
   "execution_count": null,
   "id": "a3d53d96",
   "metadata": {},
   "outputs": [
    {
     "name": "stdout",
     "output_type": "stream",
     "text": [
      "['monkey', 'Zebra', 'Zebra', 'Zebra', 'lion', 'tiger', 'elephant', 'donkey', 'giraffe', 'rhynocerus']\n"
     ]
    }
   ],
   "source": [
    "animal.insert(1,\"Zebra\") \n",
    "print(animal)"
   ]
  },
  {
   "cell_type": "code",
   "execution_count": 9,
   "id": "ae84060d",
   "metadata": {},
   "outputs": [
    {
     "name": "stdout",
     "output_type": "stream",
     "text": [
      "['monkey', 'Zebra', 'Zebra', 'Zebra', 'lion', 'tiger', 'elephant', 'donkey', 'giraffe', 'rhynocerus']\n"
     ]
    }
   ],
   "source": [
    "print(animal)"
   ]
  },
  {
   "cell_type": "code",
   "execution_count": 15,
   "id": "a65e6d33",
   "metadata": {},
   "outputs": [
    {
     "name": "stdout",
     "output_type": "stream",
     "text": [
      "['monkey', 'Zebra', 'lion', 'tiger', 'elephant', 'donkey', 'giraffe', 'rhynocerus']\n"
     ]
    }
   ],
   "source": [
    "(animal.remove(\"Zebra\"))\n",
    "print(animal)"
   ]
  },
  {
   "cell_type": "code",
   "execution_count": 89,
   "id": "7bd4f956-cec4-40d5-bd45-5a01bce91bfc",
   "metadata": {},
   "outputs": [
    {
     "ename": "NameError",
     "evalue": "name 'fruit' is not defined",
     "output_type": "error",
     "traceback": [
      "\u001b[1;31m---------------------------------------------------------------------------\u001b[0m",
      "\u001b[1;31mNameError\u001b[0m                                 Traceback (most recent call last)",
      "Cell \u001b[1;32mIn[89], line 1\u001b[0m\n\u001b[1;32m----> 1\u001b[0m \u001b[38;5;28mprint\u001b[39m(fruit)\n",
      "\u001b[1;31mNameError\u001b[0m: name 'fruit' is not defined"
     ]
    }
   ],
   "source": [
    "print(fruit)"
   ]
  },
  {
   "cell_type": "markdown",
   "id": "08ef9cc9-b0bc-413b-8cb3-e7ce00ec9bb0",
   "metadata": {},
   "source": [
    "**Tuple**\n",
    "1. It is used to store multiple items in it.\n",
    "2. It is immutable means it is unchangable.\n",
    "3. It allows duplicate values.\n",
    "4. It is ordered.\n",
    "5. It is denoted by ()."
   ]
  },
  {
   "cell_type": "code",
   "execution_count": 96,
   "id": "1e6a8124-05ec-4b8a-b447-d12cca9c2399",
   "metadata": {},
   "outputs": [
    {
     "name": "stdout",
     "output_type": "stream",
     "text": [
      "('Apple', 'Mango', 'Orange', 'Banana', ' ', 'Papaya', 'Apple', 'Orange')\n"
     ]
    },
    {
     "data": {
      "text/plain": [
       "tuple"
      ]
     },
     "execution_count": 96,
     "metadata": {},
     "output_type": "execute_result"
    }
   ],
   "source": [
    "fruit = ('Apple' , 'Mango' , 'Orange' , 'Banana' , \" \", 'Papaya' , 'Apple' , 'Orange')\n",
    "print(fruit)\n",
    "type(fruit)  \n"
   ]
  },
  {
   "cell_type": "code",
   "execution_count": null,
   "id": "8e8e6b41-caf1-478a-adae-ba28218e2a40",
   "metadata": {},
   "outputs": [
    {
     "name": "stdout",
     "output_type": "stream",
     "text": [
      "('monkey', 'elephant', 'crocodile', ' ', 'True', 'False')\n"
     ]
    },
    {
     "data": {
      "text/plain": [
       "tuple"
      ]
     },
     "execution_count": 98,
     "metadata": {},
     "output_type": "execute_result"
    }
   ],
   "source": [
    "animal = (\"monkey\" , \"elephant\" , \"crocodile\" , \" \" , \"True\" , \"False\")\n",
    "print(animal)  \n",
    "type(animal)  "
   ]
  },
  {
   "cell_type": "code",
   "execution_count": 100,
   "id": "73bcb6dc-80a4-49d3-986d-d1029fed9e95",
   "metadata": {},
   "outputs": [
    {
     "name": "stdout",
     "output_type": "stream",
     "text": [
      "('[monkey]', '[elephant]', '[lion]', '[tiger]')\n"
     ]
    }
   ],
   "source": [
    "#list inside a tuple                                        \n",
    "animal = ('[monkey]' , '[elephant]' , '[lion]' , '[tiger]')\n",
    "print(animal)  \n"
   ]
  },
  {
   "cell_type": "code",
   "execution_count": 102,
   "id": "11d3ce52-77d5-4b57-8e6b-01f9636f993d",
   "metadata": {},
   "outputs": [
    {
     "name": "stdout",
     "output_type": "stream",
     "text": [
      "['(apple)', '(mango)', '(banana)', '(pineapple)']\n"
     ]
    }
   ],
   "source": [
    "#tuple inside a list  \n",
    "fruit = ['(apple)' , '(mango)' , '(banana)' , '(pineapple)']\n",
    "print(fruit)"
   ]
  }
 ],
 "metadata": {
  "kernelspec": {
   "display_name": "Python 3",
   "language": "python",
   "name": "python3"
  },
  "language_info": {
   "codemirror_mode": {
    "name": "ipython",
    "version": 3
   },
   "file_extension": ".py",
   "mimetype": "text/x-python",
   "name": "python",
   "nbconvert_exporter": "python",
   "pygments_lexer": "ipython3",
   "version": "3.11.11"
  }
 },
 "nbformat": 4,
 "nbformat_minor": 5
}
