{
 "cells": [
  {
   "cell_type": "markdown",
   "id": "ef5c7747-38d1-4820-a26d-ef458bd88548",
   "metadata": {},
   "source": [
    "**Set**\n",
    "1. It is used to store multiple items in it.\n",
    "2. It is unordered.\n",
    "3. It is denoted by {}.\n",
    "4. It is mutable.\n",
    "5. It does'nt allow duplicate values."
   ]
  },
  {
   "cell_type": "code",
   "execution_count": null,
   "id": "1d024dfa-34f8-4239-b5be-bd76ca87c2c0",
   "metadata": {},
   "outputs": [
    {
     "name": "stdout",
     "output_type": "stream",
     "text": [
      "{False, True, 43, 'Horse', 6j, 'Guava', 24, 56, 'Mango'}\n"
     ]
    },
    {
     "data": {
      "text/plain": [
       "set"
      ]
     },
     "execution_count": 1,
     "metadata": {},
     "output_type": "execute_result"
    }
   ],
   "source": [
    "num = {\"Horse\" , \"Mango\" , True , False , 24 , 43 ,56 , 6j , \"Guava\"}\n",
    "print(num)\n",
    "type(num)   "
   ]
  },
  {
   "cell_type": "code",
   "execution_count": 3,
   "id": "0aae25f8-c32d-46db-8928-ffb82f5a8556",
   "metadata": {},
   "outputs": [
    {
     "name": "stdout",
     "output_type": "stream",
     "text": [
      "False\n",
      "Horse\n",
      "True\n",
      "43\n",
      "Guava\n",
      "6j\n",
      "24\n",
      "56\n",
      "Mango\n"
     ]
    }
   ],
   "source": [
    "for i in num:\n",
    "    print(i)"
   ]
  },
  {
   "cell_type": "code",
   "execution_count": null,
   "id": "c2cbbdd6-1a83-4fa5-bf11-bdfaa0e12f08",
   "metadata": {},
   "outputs": [
    {
     "name": "stdout",
     "output_type": "stream",
     "text": [
      "{False, True, 'Guava', 'Mango', 'Cat', 'Horse', 43, 6j, 24, 56}\n"
     ]
    }
   ],
   "source": [
    "num.add(\"Cat\")                          \n",
    "print(num)       "
   ]
  },
  {
   "cell_type": "code",
   "execution_count": null,
   "id": "fe2b4f5d-ff6d-4b37-af5b-56c0ff0c5c6d",
   "metadata": {},
   "outputs": [
    {
     "name": "stdout",
     "output_type": "stream",
     "text": [
      "{False, True, 'Guava', 2, 3, 4, 5, 'Mango', 'Cat', 'Horse', 6, 43, 9, 6j, 24, 56}\n"
     ]
    }
   ],
   "source": [
    "# 0 and 1 are defined a true and false , since true and false already exist so 1 will no be considered in the output\n",
    "f = [1,2,3,4,5,6,9]      \n",
    "num.update(f)           \n",
    "print(num)                             "
   ]
  },
  {
   "cell_type": "code",
   "execution_count": null,
   "id": "207db700-cd3d-4150-8093-ab5244c4e8dc",
   "metadata": {},
   "outputs": [
    {
     "name": "stdout",
     "output_type": "stream",
     "text": [
      "{False, True, 'Guava', 2, 3, 4, 5, 'Mango', 'Horse', 6, 43, 9, 6j, 24, 56}\n"
     ]
    }
   ],
   "source": [
    "num.discard('Cat')       \n",
    "print(num)         "
   ]
  },
  {
   "cell_type": "code",
   "execution_count": null,
   "id": "edd2b621-c924-4437-8aee-9fb080631190",
   "metadata": {},
   "outputs": [
    {
     "name": "stdout",
     "output_type": "stream",
     "text": [
      "{False, True, 'Guava', 2, 3, 4, 5, 'Horse', 6, 43, 9, 6j, 24, 56}\n"
     ]
    }
   ],
   "source": [
    "num.remove('Mango')      \n",
    "print(num)    "
   ]
  },
  {
   "cell_type": "markdown",
   "id": "ce5b4679-b847-426a-b87f-bdfa8c2cb4ff",
   "metadata": {},
   "source": [
    "**Dictionary**\n",
    "1. It stores the item in a key:value pair.\n",
    "2. It can have duplicate values but not duplicate keys.\n",
    "3. It is ordered.\n"
   ]
  },
  {
   "cell_type": "code",
   "execution_count": 4,
   "id": "8434ab79-6648-4eed-be54-77f41cb2947c",
   "metadata": {},
   "outputs": [
    {
     "name": "stdout",
     "output_type": "stream",
     "text": [
      "{'brand': 'Ford', 'model': 'Mustang', 'year': 1964}\n"
     ]
    },
    {
     "data": {
      "text/plain": [
       "dict"
      ]
     },
     "execution_count": 4,
     "metadata": {},
     "output_type": "execute_result"
    }
   ],
   "source": [
    "car = {\n",
    "    \"brand\":\"Ford\",\n",
    "    \"model\":\"Mustang\",\n",
    "    \"year\":1964\n",
    "}\n",
    "print(car)\n",
    "type(car)\n",
    "    "
   ]
  },
  {
   "cell_type": "code",
   "execution_count": 3,
   "id": "8c5b5505",
   "metadata": {},
   "outputs": [],
   "source": [
    "car = {\"brand\":\"Ford\",\"model\":\"Mustang\",\"Year\":1946}"
   ]
  },
  {
   "cell_type": "code",
   "execution_count": 5,
   "id": "d041984e-dea4-4bbf-884b-fd8699ec2fde",
   "metadata": {},
   "outputs": [
    {
     "data": {
      "text/plain": [
       "1964"
      ]
     },
     "execution_count": 5,
     "metadata": {},
     "output_type": "execute_result"
    }
   ],
   "source": [
    "car['year']"
   ]
  },
  {
   "cell_type": "code",
   "execution_count": 27,
   "id": "f013de9d-12e5-47ad-a406-192d87dabf0e",
   "metadata": {},
   "outputs": [
    {
     "data": {
      "text/plain": [
       "dict_keys(['brand', 'model', 'year'])"
      ]
     },
     "execution_count": 27,
     "metadata": {},
     "output_type": "execute_result"
    }
   ],
   "source": [
    "car.keys()"
   ]
  },
  {
   "cell_type": "code",
   "execution_count": 29,
   "id": "579f0139-3591-4396-9dfc-660cad5332bf",
   "metadata": {},
   "outputs": [
    {
     "data": {
      "text/plain": [
       "dict_values(['Ford', 'Mustang', 1964])"
      ]
     },
     "execution_count": 29,
     "metadata": {},
     "output_type": "execute_result"
    }
   ],
   "source": [
    "car.values()"
   ]
  },
  {
   "cell_type": "code",
   "execution_count": 31,
   "id": "050e11cc-001d-428e-bd65-cdef48a0f0ad",
   "metadata": {},
   "outputs": [
    {
     "data": {
      "text/plain": [
       "dict_items([('brand', 'Ford'), ('model', 'Mustang'), ('year', 1964)])"
      ]
     },
     "execution_count": 31,
     "metadata": {},
     "output_type": "execute_result"
    }
   ],
   "source": [
    "car.items()"
   ]
  },
  {
   "cell_type": "code",
   "execution_count": 33,
   "id": "efe423e0-37be-44a9-85e3-83e3da716a21",
   "metadata": {},
   "outputs": [
    {
     "name": "stdout",
     "output_type": "stream",
     "text": [
      "{'brand': 'Ford', 'model': 'Mustang', 'year': 2025}\n"
     ]
    }
   ],
   "source": [
    "car['year']=2025\n",
    "print(car)"
   ]
  },
  {
   "cell_type": "code",
   "execution_count": null,
   "id": "4adf727d-ec70-4089-a8a9-a8aad6f5db45",
   "metadata": {},
   "outputs": [
    {
     "name": "stdout",
     "output_type": "stream",
     "text": [
      "{'brand': 'Maruti', 'model': 'Mustang', 'year': 2025}\n"
     ]
    }
   ],
   "source": [
    "car.update({'brand':'Maruti'})\n",
    "print(car)                                               "
   ]
  },
  {
   "cell_type": "code",
   "execution_count": null,
   "id": "e12e68a0-6449-45e6-b997-9e0ec5e7feb6",
   "metadata": {},
   "outputs": [
    {
     "name": "stdout",
     "output_type": "stream",
     "text": [
      "{'brand': 'Maruti', 'model': 'Mustang', 'year': 2025, 'color': 'black'}\n"
     ]
    }
   ],
   "source": [
    "car['color']='black'\n",
    "print(car)           "
   ]
  },
  {
   "cell_type": "code",
   "execution_count": 42,
   "id": "ccaf760a-0cd6-471d-9d9d-450f51e8727a",
   "metadata": {},
   "outputs": [
    {
     "name": "stdout",
     "output_type": "stream",
     "text": [
      "{'brand': 'Maruti', 'model': 'Mustang'}\n"
     ]
    }
   ],
   "source": [
    "car.popitem()\n",
    "print(car)"
   ]
  },
  {
   "cell_type": "code",
   "execution_count": 44,
   "id": "03e3575d-20f2-489e-abb0-33382051891f",
   "metadata": {},
   "outputs": [
    {
     "name": "stdout",
     "output_type": "stream",
     "text": [
      "{'brand': 'Maruti'}\n"
     ]
    }
   ],
   "source": [
    "car.pop('model')\n",
    "print(car)"
   ]
  },
  {
   "cell_type": "code",
   "execution_count": null,
   "id": "5fa56bcb-05f8-485a-9163-3eaef79c168c",
   "metadata": {},
   "outputs": [
    {
     "name": "stdout",
     "output_type": "stream",
     "text": [
      "{'brand': 'Ford', 'model': 'Mustang', 'year': 1964}\n"
     ]
    }
   ],
   "source": [
    "print(car)    "
   ]
  }
 ],
 "metadata": {
  "kernelspec": {
   "display_name": "Python 3",
   "language": "python",
   "name": "python3"
  },
  "language_info": {
   "codemirror_mode": {
    "name": "ipython",
    "version": 3
   },
   "file_extension": ".py",
   "mimetype": "text/x-python",
   "name": "python",
   "nbconvert_exporter": "python",
   "pygments_lexer": "ipython3",
   "version": "3.11.11"
  }
 },
 "nbformat": 4,
 "nbformat_minor": 5
}
