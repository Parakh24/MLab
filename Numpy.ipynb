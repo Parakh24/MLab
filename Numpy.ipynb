{
 "cells": [
  {
   "cell_type": "markdown",
   "id": "5248bc8e",
   "metadata": {},
   "source": [
    "# Numpy \n",
    "\n",
    "1. Numpy stands for numerical python\n",
    "2. Works to resolve the array \n",
    "3. Array is a data structure used for     storing numerical values\n",
    "4. Faster and more memory efficient\n",
    "5. Used for BroadCasting\n",
    "6. Ideal for Scientific computing and ML "
   ]
  },
  {
   "cell_type": "markdown",
   "id": "3a24b26f",
   "metadata": {},
   "source": []
  },
  {
   "cell_type": "code",
   "execution_count": 4,
   "id": "6cf94837",
   "metadata": {},
   "outputs": [
    {
     "name": "stdout",
     "output_type": "stream",
     "text": [
      "Requirement already satisfied: numpy in d:\\yhills_ml\\.conda\\lib\\site-packages (2.2.5)\n"
     ]
    }
   ],
   "source": [
    "! pip install numpy "
   ]
  },
  {
   "cell_type": "code",
   "execution_count": 1,
   "id": "ae905fff",
   "metadata": {},
   "outputs": [],
   "source": [
    "import numpy as np "
   ]
  },
  {
   "cell_type": "code",
   "execution_count": 128,
   "id": "d507ce01",
   "metadata": {},
   "outputs": [
    {
     "name": "stdout",
     "output_type": "stream",
     "text": [
      "32\n",
      "0\n"
     ]
    }
   ],
   "source": [
    "arr0 = np.array(32)\n",
    "print(arr0) \n",
    "print(arr0.ndim)"
   ]
  },
  {
   "cell_type": "code",
   "execution_count": 7,
   "id": "003235d8",
   "metadata": {},
   "outputs": [
    {
     "name": "stdout",
     "output_type": "stream",
     "text": [
      "[1 2 3 4 5]\n",
      "1\n"
     ]
    }
   ],
   "source": [
    "arr1 = np.array([1,2,3,4,5])\n",
    "print(arr1)\n",
    "print(arr1.ndim)"
   ]
  },
  {
   "cell_type": "code",
   "execution_count": null,
   "id": "ee18bc68",
   "metadata": {},
   "outputs": [
    {
     "name": "stdout",
     "output_type": "stream",
     "text": [
      "[[1 2 3]\n",
      " [4 5 6]]\n",
      "2\n"
     ]
    }
   ],
   "source": [
    "arr2 = np.array([[1,2,3],[4,5,6]])\n",
    "print(arr2)                          \n",
    "print(arr2.ndim)"
   ]
  },
  {
   "cell_type": "code",
   "execution_count": 9,
   "id": "6133ad84",
   "metadata": {},
   "outputs": [
    {
     "name": "stdout",
     "output_type": "stream",
     "text": [
      "12\n"
     ]
    }
   ],
   "source": [
    "arr3 = np.array([[[1,2,3],[4,5,6]],[[7,8,9],[10,11,12]]])\n",
    "print(arr3[1,1,2])"
   ]
  },
  {
   "cell_type": "code",
   "execution_count": 10,
   "id": "4820e1ef",
   "metadata": {},
   "outputs": [
    {
     "name": "stdout",
     "output_type": "stream",
     "text": [
      "6\n"
     ]
    }
   ],
   "source": [
    "arr2 = np.array([[1,2,3],[4,5,6]])\n",
    "print(arr2[1,2])"
   ]
  },
  {
   "cell_type": "code",
   "execution_count": 18,
   "id": "a5af1d6f",
   "metadata": {},
   "outputs": [
    {
     "name": "stdout",
     "output_type": "stream",
     "text": [
      "[1 2]\n"
     ]
    }
   ],
   "source": [
    "#Slicing\n",
    "arr1 = np.array([1,2,3,4,5])\n",
    "print(arr1[0:2])\n"
   ]
  },
  {
   "cell_type": "code",
   "execution_count": 19,
   "id": "0cdce285",
   "metadata": {},
   "outputs": [
    {
     "name": "stdout",
     "output_type": "stream",
     "text": [
      "[4 5 6]\n"
     ]
    }
   ],
   "source": [
    "arr2 = np.array([[1,2,3],[4,5,6]])\n",
    "print(arr2[1 , 0:])"
   ]
  },
  {
   "cell_type": "code",
   "execution_count": null,
   "id": "f36715ad",
   "metadata": {},
   "outputs": [
    {
     "name": "stdout",
     "output_type": "stream",
     "text": [
      "[4]\n"
     ]
    }
   ],
   "source": [
    "arr3 = np.array([[[1,2,3],[4,5,6]],[[7,8,9],[10,11,12]]])\n",
    "print(arr3[0,1,0:1])                                                                                     "
   ]
  },
  {
   "cell_type": "code",
   "execution_count": 21,
   "id": "3af339b3",
   "metadata": {},
   "outputs": [
    {
     "name": "stdout",
     "output_type": "stream",
     "text": [
      "(2, 3)\n"
     ]
    }
   ],
   "source": [
    "arr2 = np.array([[1,2,3],[4,5,6]])\n",
    "print(arr2.shape)    "
   ]
  },
  {
   "cell_type": "code",
   "execution_count": null,
   "id": "0ea8a096",
   "metadata": {},
   "outputs": [
    {
     "name": "stdout",
     "output_type": "stream",
     "text": [
      "(2, 2, 3)\n"
     ]
    }
   ],
   "source": [
    "arr3 = np.array([[[1,2,3],[4,5,6]], [[7,8,9],[10,11,12]]])\n",
    "print(arr3.shape) "
   ]
  },
  {
   "cell_type": "code",
   "execution_count": null,
   "id": "b32fb876",
   "metadata": {},
   "outputs": [
    {
     "name": "stdout",
     "output_type": "stream",
     "text": [
      "[[ 1  2  3  4  5  6  7  8  9 10 11 12]]\n",
      "1\n",
      "2\n"
     ]
    }
   ],
   "source": [
    "a1 = np.array([1,2,3,4,5,6,7,8,9,10,11,12])  # 1x12 , 12x1 , 2x6 , 6x2 , 3x4 , 4x3\n",
    "new_a1 = a1.reshape(1,12)   \n",
    "print(new_a1) \n",
    "print(a1.ndim)\n",
    "print(new_a1.ndim)                              "
   ]
  },
  {
   "cell_type": "code",
   "execution_count": null,
   "id": "8a6fcd63",
   "metadata": {},
   "outputs": [
    {
     "name": "stdout",
     "output_type": "stream",
     "text": [
      "[[[1]]\n",
      "\n",
      " [[2]]\n",
      "\n",
      " [[3]]\n",
      "\n",
      " [[4]]\n",
      "\n",
      " [[5]]\n",
      "\n",
      " [[6]]\n",
      "\n",
      " [[7]]\n",
      "\n",
      " [[8]]]\n"
     ]
    }
   ],
   "source": [
    "a1 = np.array([1,2,3,4,5,6,7,8])  #2x2x2 , #1x8x1\n",
    "new_a1 = a1.reshape(8,1,1) \n",
    "print(new_a1)                                                    \n",
    "            "
   ]
  },
  {
   "cell_type": "code",
   "execution_count": 4,
   "id": "f087cbc6",
   "metadata": {},
   "outputs": [
    {
     "name": "stdout",
     "output_type": "stream",
     "text": [
      "[1, 2, 3, 4]\n"
     ]
    }
   ],
   "source": [
    "x = []\n",
    "\n",
    "for i in range(1,5):\n",
    "    int_1 = int(input(\"Enter: \"))\n",
    "    x.append(int_1)\n",
    "\n",
    "print(x)"
   ]
  },
  {
   "cell_type": "code",
   "execution_count": 6,
   "id": "0633dbfc",
   "metadata": {},
   "outputs": [
    {
     "name": "stdout",
     "output_type": "stream",
     "text": [
      "[[[[[[[[[[1 2 3 4]]]]]]]]]]\n",
      "10\n"
     ]
    }
   ],
   "source": [
    "import numpy as np \n",
    "arr = np.array([1,2,3,4] , ndmin = 10)\n",
    "print(arr) \n",
    "print(arr.ndim)"
   ]
  },
  {
   "cell_type": "code",
   "execution_count": 8,
   "id": "df61a00c",
   "metadata": {},
   "outputs": [
    {
     "name": "stdout",
     "output_type": "stream",
     "text": [
      "[[[ 1  2  3]\n",
      "  [ 4  5  6]]\n",
      "\n",
      " [[ 7  8  9]\n",
      "  [10 11 12]]]\n"
     ]
    }
   ],
   "source": [
    "arr = np.array([[[1,2,3],[4,5,6]],[[7,8,9],[10,11,12]]])\n",
    "print(arr)"
   ]
  },
  {
   "cell_type": "code",
   "execution_count": 9,
   "id": "ffd55094",
   "metadata": {},
   "outputs": [
    {
     "name": "stdout",
     "output_type": "stream",
     "text": [
      "[[[[[1 2 3 4]]]]]\n",
      "5\n"
     ]
    }
   ],
   "source": [
    "arr = np.array([1,2,3,4] , ndmin = 5)\n",
    "print(arr)\n",
    "print(arr.ndim) "
   ]
  },
  {
   "cell_type": "code",
   "execution_count": 10,
   "id": "d298bf28",
   "metadata": {},
   "outputs": [
    {
     "name": "stdout",
     "output_type": "stream",
     "text": [
      "[0. 0. 0. 0.]\n"
     ]
    }
   ],
   "source": [
    "arr = np.zeros(4)\n",
    "print(arr) "
   ]
  },
  {
   "cell_type": "code",
   "execution_count": 26,
   "id": "b2aca6d5",
   "metadata": {},
   "outputs": [
    {
     "name": "stdout",
     "output_type": "stream",
     "text": [
      "[1. 1. 1. 1. 1.]\n"
     ]
    }
   ],
   "source": [
    "arr = np.ones(5) \n",
    "print(arr)"
   ]
  },
  {
   "cell_type": "code",
   "execution_count": 28,
   "id": "9242523e",
   "metadata": {},
   "outputs": [
    {
     "name": "stdout",
     "output_type": "stream",
     "text": [
      "[0. 0. 0. 0. 0. 0. 0. 0.]\n"
     ]
    }
   ],
   "source": [
    "arr = np.empty(8)\n",
    "print(arr)"
   ]
  },
  {
   "cell_type": "code",
   "execution_count": null,
   "id": "08aec73c",
   "metadata": {},
   "outputs": [
    {
     "name": "stdout",
     "output_type": "stream",
     "text": [
      "[0 1 2 3 4]\n"
     ]
    }
   ],
   "source": [
    "arr = np.arange(5)\n",
    "print(arr) "
   ]
  },
  {
   "cell_type": "code",
   "execution_count": null,
   "id": "43970ef1",
   "metadata": {},
   "outputs": [
    {
     "name": "stdout",
     "output_type": "stream",
     "text": [
      "[[1. 0. 0. 0.]\n",
      " [0. 1. 0. 0.]\n",
      " [0. 0. 1. 0.]\n",
      " [0. 0. 0. 1.]]\n"
     ]
    }
   ],
   "source": [
    "# Creating Square matrix \n",
    "arr_dia = np.eye(4)\n",
    "print(arr_dia) "
   ]
  },
  {
   "cell_type": "markdown",
   "id": "cdbc9882",
   "metadata": {},
   "source": [
    "### Diagonal "
   ]
  },
  {
   "cell_type": "code",
   "execution_count": null,
   "id": "8d8e690f",
   "metadata": {},
   "outputs": [
    {
     "name": "stdout",
     "output_type": "stream",
     "text": [
      "[[1. 0. 0. 0. 0.]\n",
      " [0. 1. 0. 0. 0.]\n",
      " [0. 0. 1. 0. 0.]]\n"
     ]
    }
   ],
   "source": [
    "# For creating the diagonal matrix\n",
    "arr_dia = np.eye(3,5) \n",
    "print(arr_dia) "
   ]
  },
  {
   "cell_type": "markdown",
   "id": "8da80617",
   "metadata": {},
   "source": [
    "### Linspace"
   ]
  },
  {
   "cell_type": "code",
   "execution_count": 42,
   "id": "816af514",
   "metadata": {},
   "outputs": [
    {
     "name": "stdout",
     "output_type": "stream",
     "text": [
      "[ 1.    3.25  5.5   7.75 10.  ]\n"
     ]
    }
   ],
   "source": [
    "ar_lin = np.linspace(1 , 10 , num = 5)  \n",
    "print(ar_lin) "
   ]
  },
  {
   "cell_type": "markdown",
   "id": "a5542adf",
   "metadata": {},
   "source": [
    "### Random \n",
    "\n",
    "1. rand() - generate a random value between 0 and 1\n",
    "2. randn() - generate a random value close to zero\n",
    "3. ranf() - generates a value between 0 and 1 but 0 included"
   ]
  },
  {
   "cell_type": "code",
   "execution_count": 46,
   "id": "bf2fa1d6",
   "metadata": {},
   "outputs": [
    {
     "name": "stdout",
     "output_type": "stream",
     "text": [
      "[0.21688439 0.32793032 0.23290557 0.41345481]\n"
     ]
    }
   ],
   "source": [
    "var = np.random.rand(4) \n",
    "print(var) "
   ]
  },
  {
   "cell_type": "code",
   "execution_count": 53,
   "id": "96e61501",
   "metadata": {},
   "outputs": [
    {
     "name": "stdout",
     "output_type": "stream",
     "text": [
      "[[0.72491455 0.68773611]\n",
      " [0.14423077 0.3936523 ]]\n",
      "2\n"
     ]
    }
   ],
   "source": [
    "var1 = np.random.rand(2,2) \n",
    "print(var1)\n",
    "print(var1.ndim)  "
   ]
  },
  {
   "cell_type": "code",
   "execution_count": 54,
   "id": "b37fd7f4",
   "metadata": {},
   "outputs": [
    {
     "name": "stdout",
     "output_type": "stream",
     "text": [
      "[[0.92910306 0.23705517 0.98586273]\n",
      " [0.65989267 0.47884184 0.4796693 ]\n",
      " [0.89479262 0.03833865 0.87372708]]\n"
     ]
    }
   ],
   "source": [
    "var2 = np.random.rand(3,3) \n",
    "print(var2) "
   ]
  },
  {
   "cell_type": "markdown",
   "id": "088431f6",
   "metadata": {},
   "source": [
    "### randn() "
   ]
  },
  {
   "cell_type": "code",
   "execution_count": 55,
   "id": "a2f9984e",
   "metadata": {},
   "outputs": [
    {
     "name": "stdout",
     "output_type": "stream",
     "text": [
      "[ 1.01134177  0.70382213 -0.9213227  -0.88844861  0.075113  ]\n"
     ]
    }
   ],
   "source": [
    "x = np.random.randn(5)\n",
    "print(x) "
   ]
  },
  {
   "cell_type": "markdown",
   "id": "54d56704",
   "metadata": {},
   "source": [
    "### ranf()"
   ]
  },
  {
   "cell_type": "code",
   "execution_count": 3,
   "id": "2903d2f5",
   "metadata": {},
   "outputs": [
    {
     "name": "stdout",
     "output_type": "stream",
     "text": [
      "[0.0121589  0.03679143 0.81689897 0.71322243 0.9868476 ]\n"
     ]
    }
   ],
   "source": [
    "import numpy as np \n",
    "y = np.random.ranf(5) \n",
    "print(y) "
   ]
  },
  {
   "cell_type": "markdown",
   "id": "ba09ca53",
   "metadata": {},
   "source": [
    "### randint()"
   ]
  },
  {
   "cell_type": "code",
   "execution_count": 1,
   "id": "59eaa2fe",
   "metadata": {},
   "outputs": [
    {
     "name": "stdout",
     "output_type": "stream",
     "text": [
      "[14  8  4 10 12  4]\n"
     ]
    }
   ],
   "source": [
    "# np.random.randint(min , max , total_values) \n",
    "import numpy as np \n",
    "z = np.random.randint(4 , 15 , 6) \n",
    "print(z) "
   ]
  },
  {
   "cell_type": "markdown",
   "id": "d59c58dc",
   "metadata": {},
   "source": [
    "### Datatypes in Numpy"
   ]
  },
  {
   "cell_type": "markdown",
   "id": "f76c53c7",
   "metadata": {},
   "source": [
    "List of Characters used to identify datatype\n",
    "\n",
    "1. **i -  integer**\n",
    "2. **b -  boolean**\n",
    "3. **u -  unsigned integer**\n",
    "4. **f -  float**\n",
    "5. **c -  complex float**\n",
    "6. **m -  timedelta**\n",
    "7. **M -  datetime**\n",
    "8. **O -  object**\n",
    "9. **S -  string**\n",
    "10. **U - Unicode string**\n",
    "11. **V - the fixed chunk of memory for other types (void)** "
   ]
  },
  {
   "cell_type": "code",
   "execution_count": 19,
   "id": "19afa718",
   "metadata": {},
   "outputs": [
    {
     "name": "stdout",
     "output_type": "stream",
     "text": [
      "Datatype:  int64\n"
     ]
    }
   ],
   "source": [
    "var = np.array([128, 1, 2,3 , 4])\n",
    "print(\"Datatype: \",var.dtype)"
   ]
  },
  {
   "cell_type": "code",
   "execution_count": 3,
   "id": "c634b9ac",
   "metadata": {},
   "outputs": [],
   "source": [
    "import numpy as np "
   ]
  },
  {
   "cell_type": "code",
   "execution_count": 6,
   "id": "4a7c4970",
   "metadata": {},
   "outputs": [
    {
     "name": "stdout",
     "output_type": "stream",
     "text": [
      "int32\n"
     ]
    }
   ],
   "source": [
    "z = np.array([-128 , 0 , 127] , dtype = 'int32') \n",
    "print(z.dtype)  "
   ]
  },
  {
   "cell_type": "code",
   "execution_count": null,
   "id": "30659bbf",
   "metadata": {},
   "outputs": [
    {
     "name": "stdout",
     "output_type": "stream",
     "text": [
      "<U1\n"
     ]
    }
   ],
   "source": [
    "var = np.array([\"a\" , \"b\" , \"c\" , \"d\"]) \n",
    "print(var.dtype) "
   ]
  },
  {
   "cell_type": "code",
   "execution_count": 27,
   "id": "e1db9381",
   "metadata": {},
   "outputs": [
    {
     "name": "stdout",
     "output_type": "stream",
     "text": [
      "<U21\n"
     ]
    }
   ],
   "source": [
    "var = np.array([\"a\" , \"b\" , \"c\" , \"d\" , 1 , 2 , 3 , 4 ]) \n",
    "print(var.dtype) "
   ]
  },
  {
   "cell_type": "code",
   "execution_count": 30,
   "id": "9877073b",
   "metadata": {},
   "outputs": [
    {
     "name": "stdout",
     "output_type": "stream",
     "text": [
      "<U32\n"
     ]
    }
   ],
   "source": [
    "var = np.array([\"A\" , \"B\" , \"C\" , \"D\" ,1.1 , 2.2 , 3.3 , 4.4 , 2 , 4]) \n",
    "print(var.dtype) "
   ]
  },
  {
   "cell_type": "code",
   "execution_count": 31,
   "id": "e1f1bf50",
   "metadata": {},
   "outputs": [
    {
     "name": "stdout",
     "output_type": "stream",
     "text": [
      "int8\n"
     ]
    }
   ],
   "source": [
    "var = np.array([1,2,3,4,5] , dtype = np.int8)\n",
    "print(var.dtype) "
   ]
  },
  {
   "cell_type": "code",
   "execution_count": 32,
   "id": "f0b1fb82",
   "metadata": {},
   "outputs": [
    {
     "name": "stdout",
     "output_type": "stream",
     "text": [
      "int32\n"
     ]
    }
   ],
   "source": [
    "var = np.array([1,2,3,4] , dtype = np.int32)\n",
    "print(var.dtype) "
   ]
  },
  {
   "cell_type": "code",
   "execution_count": 33,
   "id": "650927ff",
   "metadata": {},
   "outputs": [
    {
     "name": "stdout",
     "output_type": "stream",
     "text": [
      "float32\n"
     ]
    }
   ],
   "source": [
    "var = np.array([1,2,3,4] , dtype = \"f\")\n",
    "print(var.dtype)"
   ]
  },
  {
   "cell_type": "code",
   "execution_count": 35,
   "id": "74fe5d00",
   "metadata": {},
   "outputs": [
    {
     "name": "stdout",
     "output_type": "stream",
     "text": [
      "Float_Conversion:  [1. 2. 3. 4. 5.]\n",
      "int_conversion:  [1 2 3 4 5]\n"
     ]
    }
   ],
   "source": [
    "#conversion \n",
    "\n",
    "x1 = np.array([1,2,3,4,5])\n",
    "\n",
    "float_conversion = np.float32(x1)\n",
    "\n",
    "int_conversion = np.int_(float_conversion) \n",
    "\n",
    "print(\"Float_Conversion: \" , float_conversion)\n",
    "print(\"int_conversion: \" , int_conversion) "
   ]
  },
  {
   "cell_type": "markdown",
   "id": "3e0317b9",
   "metadata": {},
   "source": [
    "### Arithmetic Operation"
   ]
  },
  {
   "cell_type": "markdown",
   "id": "715b96c8",
   "metadata": {},
   "source": [
    "1. add - np.add(a,b) \n",
    "2. subtract - np.subtract(a,b) \n",
    "3. multiply - np.multiply(a,b) \n",
    "4. divide - np.divide(a,b) \n",
    "5. mod - np.mod(a,b) \n",
    "6. power - np.power(a,b) \n",
    "7. reciprocal - np.reciprocal(a,b) "
   ]
  },
  {
   "cell_type": "code",
   "execution_count": 38,
   "id": "7770ac20",
   "metadata": {},
   "outputs": [
    {
     "name": "stdout",
     "output_type": "stream",
     "text": [
      "[6 6 6 6]\n",
      "[5 6 7 8]\n",
      "[8 7 6 5]\n"
     ]
    }
   ],
   "source": [
    "a = np.array([1,2,3,4]) \n",
    "\n",
    "b = np.array([5,4,3,2]) \n",
    "\n",
    "a1 = a + 4\n",
    "b1 = b + 3\n",
    "x = np.add(a,b)\n",
    "print(x) \n",
    "print(a1)\n",
    "print(b1) "
   ]
  },
  {
   "cell_type": "code",
   "execution_count": 39,
   "id": "9d0f2e2d",
   "metadata": {},
   "outputs": [
    {
     "name": "stdout",
     "output_type": "stream",
     "text": [
      "[1 0 0 0]\n"
     ]
    }
   ],
   "source": [
    "x1 = np.array([1,2,3,8]) \n",
    "x2 = np.array([4,3,7,2]) \n",
    "\n",
    "x_new = np.reciprocal(x1 , x2) \n",
    "print(x_new) "
   ]
  },
  {
   "cell_type": "code",
   "execution_count": 40,
   "id": "13806d86",
   "metadata": {},
   "outputs": [
    {
     "name": "stdout",
     "output_type": "stream",
     "text": [
      "[1.         1.         1.         1.18181818]\n"
     ]
    }
   ],
   "source": [
    "var1 = np.array([1,2,3,13]) \n",
    "var2 = np.array([1,2,3,11]) \n",
    "var_new = np.divide(var1 , var2) \n",
    "print(var_new) "
   ]
  },
  {
   "cell_type": "code",
   "execution_count": null,
   "id": "83ee160f",
   "metadata": {},
   "outputs": [
    {
     "name": "stdout",
     "output_type": "stream",
     "text": [
      "[[1 2 3 4 5]\n",
      " [1 2 3 4 5]]\n",
      "\n",
      "[[ 5  4  3  2  1]\n",
      " [ 6  7  8  9 10]]\n",
      "\n",
      "[[ 6  6  6  6  6]\n",
      " [ 7  9 11 13 15]]\n"
     ]
    }
   ],
   "source": [
    "#2D array\n",
    "x = np.array([[1,2,3,4,5] , [1,2,3,4,5]])\n",
    "y = np.array([[5,4,3,2,1] , [6,7,8,9,10]])\n",
    "\n",
    "print(x) \n",
    "print() \n",
    "print(y)\n",
    "print()\n",
    "new_var = np.add(x , y) \n",
    "print(new_var) "
   ]
  },
  {
   "cell_type": "markdown",
   "id": "2a97e951",
   "metadata": {},
   "source": [
    "### Arithmetic Functions\n",
    "\n",
    "1. np.min() - defines the minimum value\n",
    "2. np.max() - defines the maximum value\n",
    "3. np.argmin(x) - position of the minimum value\n",
    "4. np.sqrt() - square root\n",
    "5. np.sin() - sin function \n",
    "6. np.cos() - cos function \n",
    "7. np.cumsum() "
   ]
  },
  {
   "cell_type": "code",
   "execution_count": 46,
   "id": "5f1fec21",
   "metadata": {},
   "outputs": [
    {
     "name": "stdout",
     "output_type": "stream",
     "text": [
      "12 0\n",
      "\n",
      "15 3\n"
     ]
    }
   ],
   "source": [
    "x = np.array([1,2,3,4]) \n",
    "y = np.array([4,3,2,1]) \n",
    "\n",
    "var = np.array([12,13,14,15]) \n",
    "\n",
    "x1 = np.min(var)\n",
    "x_1 = np.argmin(var) \n",
    "print(x1 , x_1)          \n",
    "print()           \n",
    "\n",
    "x2 = np.max(var)\n",
    "x_2 = np.argmax(var) \n",
    "print(x2 , x_2)                               \n"
   ]
  },
  {
   "cell_type": "code",
   "execution_count": null,
   "id": "f59b7229",
   "metadata": {},
   "outputs": [
    {
     "name": "stdout",
     "output_type": "stream",
     "text": [
      "[1 2 3]\n",
      "[1 4]\n",
      "[1 2 3]\n",
      "[3 6]\n"
     ]
    }
   ],
   "source": [
    "# 2D array (axis = 0 columns) & (axis = 1 rows)\n",
    "var1 = np.array([[1,2,3] , [4,5,6]]) \n",
    "\n",
    "print(np.min(var1 , axis = 0)) \n",
    "print(np.min(var1 , axis = 1))\n",
    "print(np.min(var1 , axis = 0))  \n",
    "print(np.max(var1 , axis = 1))"
   ]
  },
  {
   "cell_type": "code",
   "execution_count": null,
   "id": "4cffcd9d",
   "metadata": {},
   "outputs": [
    {
     "name": "stdout",
     "output_type": "stream",
     "text": [
      "[ 0.54030231 -0.41614684 -0.9899925  -0.65364362]\n",
      "[ 0.84147098  0.90929743  0.14112001 -0.7568025 ]\n"
     ]
    }
   ],
   "source": [
    "var2 = np.array([1,2,3,4]) \n",
    "print(np.cos(var2))  \n",
    "print(np.sin(var2))             "
   ]
  },
  {
   "cell_type": "code",
   "execution_count": null,
   "id": "b281a54a",
   "metadata": {},
   "outputs": [
    {
     "name": "stdout",
     "output_type": "stream",
     "text": [
      "[[[ 1]\n",
      "  [ 2]\n",
      "  [ 3]\n",
      "  [ 4]]\n",
      "\n",
      " [[ 5]\n",
      "  [ 6]\n",
      "  [ 7]\n",
      "  [ 8]]\n",
      "\n",
      " [[ 9]\n",
      "  [10]\n",
      "  [11]\n",
      "  [12]]]\n"
     ]
    }
   ],
   "source": [
    "var = np.array([1,2,3,4,5,6,7,8,9,10,11,12])  \n",
    "x = var.reshape(3,4,1) \n",
    "print(x)                                                                                                                                       "
   ]
  },
  {
   "cell_type": "code",
   "execution_count": 2,
   "id": "dc629053",
   "metadata": {},
   "outputs": [],
   "source": [
    "import numpy as np "
   ]
  },
  {
   "cell_type": "code",
   "execution_count": 20,
   "id": "662befc6",
   "metadata": {},
   "outputs": [
    {
     "name": "stdout",
     "output_type": "stream",
     "text": [
      "[[1 2 3 4 5]\n",
      " [6 1 2 3 4]]\n",
      "\n",
      "(2, 5)\n",
      "\n",
      "[1 2 3 4 5 6 1 2 3 4]\n"
     ]
    }
   ],
   "source": [
    "variable = np.array([1,2,3,4,5,6,1,2,3,4]) \n",
    "x_1 = variable.reshape(2,5)  \n",
    "print(x_1) \n",
    "print()\n",
    "print(np.shape(x_1)) \n",
    "print()  \n",
    "\n",
    "# Converts back to numpy \n",
    "x_2 = x_1.reshape(-1) \n",
    "print(x_2) "
   ]
  },
  {
   "cell_type": "markdown",
   "id": "cf29143c",
   "metadata": {},
   "source": [
    "### Broadcasting in Numpy"
   ]
  },
  {
   "cell_type": "markdown",
   "id": "69c6a981",
   "metadata": {},
   "source": [
    "1. Check the rows and columns of the array\n",
    "2. The columns of one of the arrays and columns of the other array must contain the number 1 "
   ]
  },
  {
   "cell_type": "code",
   "execution_count": 54,
   "id": "8a641bdd",
   "metadata": {},
   "outputs": [
    {
     "name": "stdout",
     "output_type": "stream",
     "text": [
      "[[14]\n",
      " [12]]\n",
      "shape:  (2, 1)\n",
      "\n",
      "[[1 2 3]\n",
      " [4 5 6]]\n",
      "shape:  (2, 3)\n",
      "\n",
      "[[15 16 17]\n",
      " [16 17 18]]\n"
     ]
    }
   ],
   "source": [
    "arr1 = np.array([14,12]) \n",
    "\n",
    "arr_1 = arr1.reshape(2,1)\n",
    "print(arr_1)  \n",
    "print(\"shape: \" ,np.shape(arr_1))\n",
    "print()\n",
    "\n",
    "arr2 = np.array([1,2,3,4,5,6]) \n",
    "\n",
    "arr_2 = arr2.reshape(2,3) \n",
    "print(arr_2)\n",
    "print(\"shape: \" , np.shape(arr_2)) \n",
    "print() \n",
    "x1 = (arr_1 + arr_2)\n",
    "print(x1)  \n",
    "\n"
   ]
  },
  {
   "cell_type": "markdown",
   "id": "972816f7",
   "metadata": {},
   "source": [
    "### Indexing and Slicing"
   ]
  },
  {
   "cell_type": "code",
   "execution_count": 67,
   "id": "92533fe9",
   "metadata": {},
   "outputs": [
    {
     "name": "stdout",
     "output_type": "stream",
     "text": [
      "2\n",
      "\n",
      "3\n",
      "[4 5 6]\n",
      "\n"
     ]
    }
   ],
   "source": [
    "x = np.array([[[[1,2,3,4]]]])            \n",
    "print(x[0,0,0,-3])             \n",
    "print()              \n",
    "\n",
    "y = np.array([[[1,2,3],[4,5,6],[7,8,9],[10,11,12]],[[3,2,1],[4,2,1],[5,6,3],[4,6,7]]])\n",
    "print(y.ndim) \n",
    "print(y[0,-3,0:])\n",
    "print() \n"
   ]
  },
  {
   "cell_type": "code",
   "execution_count": 72,
   "id": "b227fb73",
   "metadata": {},
   "outputs": [
    {
     "name": "stdout",
     "output_type": "stream",
     "text": [
      "[3 4 7 8 5 3 4]\n",
      "[4 7 8 5 3]\n",
      "[3 4 7 8 5 3 4]\n"
     ]
    }
   ],
   "source": [
    "y = np.array([3,4,7,8,5,3,4]) \n",
    "print(y[:])\n",
    "\n",
    "print(y[1:6])\n",
    "\n",
    "print(y[::])"
   ]
  },
  {
   "cell_type": "markdown",
   "id": "a4629ef9",
   "metadata": {},
   "source": [
    "### Iteration "
   ]
  },
  {
   "cell_type": "code",
   "execution_count": null,
   "id": "85462575",
   "metadata": {},
   "outputs": [
    {
     "name": "stdout",
     "output_type": "stream",
     "text": [
      "1\n",
      "2\n",
      "3\n",
      "4\n",
      "5\n",
      "6\n",
      "7\n",
      "8\n",
      "9\n"
     ]
    }
   ],
   "source": [
    "arr = np.array([1,2,3,4,5,6,7,8,9]) \n",
    "\n",
    "for i in arr:\n",
    "    print(i) "
   ]
  },
  {
   "cell_type": "code",
   "execution_count": 76,
   "id": "99110f7a",
   "metadata": {},
   "outputs": [
    {
     "name": "stdout",
     "output_type": "stream",
     "text": [
      "[[1 2 3 4]\n",
      " [5 6 7 8]]\n",
      "\n",
      "[1 2 3 4]\n",
      "[5 6 7 8]\n",
      "\n",
      "1\n",
      "2\n",
      "3\n",
      "4\n",
      "5\n",
      "6\n",
      "7\n",
      "8\n"
     ]
    }
   ],
   "source": [
    "var1 = np.array([[1,2,3,4],[5,6,7,8]])\n",
    "print(var1)\n",
    "print() \n",
    "\n",
    "for i in var1:\n",
    "    print(i)\n",
    "\n",
    "print() \n",
    "\n",
    "for j in var1:\n",
    "    for k in j:\n",
    "        print(k) "
   ]
  },
  {
   "cell_type": "code",
   "execution_count": 82,
   "id": "a39d3c05",
   "metadata": {},
   "outputs": [
    {
     "name": "stdout",
     "output_type": "stream",
     "text": [
      "[[1 2 3]\n",
      " [4 5 6]]\n",
      "[[ 7  8  9]\n",
      " [10 11 12]]\n",
      "\n",
      "[1 2 3]\n",
      "[4 5 6]\n",
      "[7 8 9]\n",
      "[10 11 12]\n",
      "\n",
      "1\n",
      "2\n",
      "3\n",
      "4\n",
      "5\n",
      "6\n",
      "7\n",
      "8\n",
      "9\n",
      "10\n",
      "11\n",
      "12\n"
     ]
    }
   ],
   "source": [
    "var = np.array([[[1,2,3],[4,5,6]],[[7,8,9],[10,11,12]]])\n",
    "\n",
    "for i in var:\n",
    "    print(i)\n",
    "\n",
    "print()  \n",
    "\n",
    "\n",
    "for j in var:\n",
    "    for k in j:\n",
    "        print(k)\n",
    "print() \n",
    "\n",
    "\n",
    "for x in var:\n",
    "    for y in x:\n",
    "        for z in y:\n",
    "            print(z) "
   ]
  },
  {
   "cell_type": "code",
   "execution_count": 87,
   "id": "68d9acb8",
   "metadata": {},
   "outputs": [
    {
     "name": "stdout",
     "output_type": "stream",
     "text": [
      "1\n",
      "2\n",
      "3\n",
      "4\n",
      "5\n",
      "6\n",
      "7\n",
      "8\n",
      "9\n",
      "10\n",
      "11\n",
      "12\n",
      "\n",
      "(0, 0, 0) 1\n",
      "(0, 0, 1) 2\n",
      "(0, 1, 0) 3\n",
      "(0, 1, 1) 4\n",
      "(1, 0, 0) 5\n",
      "(1, 0, 1) 6\n",
      "(1, 1, 0) 7\n",
      "(1, 1, 1) 8\n",
      "(2, 0, 0) 9\n",
      "(2, 0, 1) 10\n",
      "(2, 1, 0) 11\n",
      "(2, 1, 1) 12\n"
     ]
    }
   ],
   "source": [
    "var = np.array([[[1,2],[3,4]],[[5,6],[7,8]],[[9,10],[11,12]]]) \n",
    " \n",
    "for i in np.nditer(var):\n",
    "    print(i)\n",
    "print() \n",
    "\n",
    "for i,d in np.ndenumerate(var):\n",
    "     print(i , d) "
   ]
  },
  {
   "cell_type": "markdown",
   "id": "5e6752fa",
   "metadata": {},
   "source": [
    "### Copy and Views"
   ]
  },
  {
   "cell_type": "code",
   "execution_count": 95,
   "id": "6300a878",
   "metadata": {},
   "outputs": [
    {
     "name": "stdout",
     "output_type": "stream",
     "text": [
      "Actual:  [1 2 3 4 3 2 1]\n",
      "\n",
      "Copied:  [1 2 3 4 3 2 1]\n",
      "\n",
      "[1 2 3 4 3 2 1]\n"
     ]
    }
   ],
   "source": [
    "x1 = np.array([1,2,3,4,3,2,1])  \n",
    "print(\"Actual: \" , x1) \n",
    "print() \n",
    "\n",
    "x_copy = np.copy(x1) \n",
    "print(\"Copied: \" , x_copy)\n",
    "print()\n",
    "\n",
    "x_view = x1.view() \n",
    "print(x_view) "
   ]
  },
  {
   "cell_type": "markdown",
   "id": "018df2f8",
   "metadata": {},
   "source": [
    "### Joining An Array "
   ]
  },
  {
   "cell_type": "markdown",
   "id": "c9f1995c",
   "metadata": {},
   "source": [
    "1. Concatenate\n",
    "2. Stack\n",
    "3. Array Split"
   ]
  },
  {
   "cell_type": "code",
   "execution_count": 113,
   "id": "01b9573f",
   "metadata": {},
   "outputs": [
    {
     "name": "stdout",
     "output_type": "stream",
     "text": [
      "[ 1  2  3  4  5  6  7  8  9 10 12 13 14 15 16 11 22 23 24]\n"
     ]
    }
   ],
   "source": [
    "x = np.array([1,2,3,4,5,6,7,8,9,10]) \n",
    "y = np.array([12,13,14,15,16,11,22,23,24])\n",
    "\n",
    "z = np.concatenate((x,y))  \n",
    "print(z)\n"
   ]
  },
  {
   "cell_type": "code",
   "execution_count": 115,
   "id": "b363a597",
   "metadata": {},
   "outputs": [
    {
     "name": "stdout",
     "output_type": "stream",
     "text": [
      "[[ 7  8 19 18]\n",
      " [ 9 10 16 23]]\n",
      "\n",
      "[[ 7  8]\n",
      " [ 9 10]\n",
      " [19 18]\n",
      " [16 23]]\n"
     ]
    }
   ],
   "source": [
    "#2D Array\n",
    "x_1 = np.array([[7,8],[9,10]])\n",
    "x_2 = np.array([[19,18],[16,23]]) \n",
    "\n",
    "x_new = np.concatenate((x_1,x_2) , axis = 0)\n",
    "x1_new = np.concatenate((x_1,x_2) , axis = 1)\n",
    "print(x1_new)\n",
    "print() \n",
    "print(x_new)  "
   ]
  },
  {
   "cell_type": "code",
   "execution_count": null,
   "id": "f655d899",
   "metadata": {},
   "outputs": [
    {
     "name": "stdout",
     "output_type": "stream",
     "text": [
      "[[1 2 3 4]\n",
      " [8 7 6 5]]\n",
      "\n",
      "[[1 2 3 4]\n",
      " [8 7 6 5]]\n",
      "\n",
      "[[[1 8]\n",
      "  [2 7]\n",
      "  [3 6]\n",
      "  [4 5]]]\n",
      "\n",
      "[1 2 3 4 8 7 6 5]\n"
     ]
    }
   ],
   "source": [
    "# stack\n",
    "\n",
    "x_1 = np.array([1,2,3,4]) \n",
    "x_2 = np.array([8,7,6,5])\n",
    "\n",
    "x_new = np.stack((x_1,x_2) , axis = 0)\n",
    "print(x_new) \n",
    "print()\n",
    "\n",
    "x1_new = np.vstack((x_1,x_2))              #vstack is along the column \n",
    "print(x1_new)\n",
    "print() \n",
    "\n",
    "x2_new = np.dstack((x_1,x_2))              #dstack is along the height                             \n",
    "print(x2_new) \n",
    "print() \n",
    "\n",
    "x3_new = np.hstack((x_1,x_2))              #hstack is along the row          \n",
    "print(x3_new) "
   ]
  },
  {
   "cell_type": "code",
   "execution_count": null,
   "id": "f331c0ce",
   "metadata": {},
   "outputs": [
    {
     "name": "stdout",
     "output_type": "stream",
     "text": [
      "[array([1, 2]), array([3, 4])]\n"
     ]
    }
   ],
   "source": [
    "x1 = np.array([1,2,3,4])\n",
    "x2 = np.array([5,6,7,8]) \n",
    "                             \n",
    "x3 =  np.array_split(x1,2) \n",
    "print(x3)                     "
   ]
  },
  {
   "cell_type": "markdown",
   "id": "0f1c66dd",
   "metadata": {},
   "source": [
    "### Search"
   ]
  },
  {
   "cell_type": "code",
   "execution_count": 6,
   "id": "d3b31162",
   "metadata": {},
   "outputs": [
    {
     "name": "stdout",
     "output_type": "stream",
     "text": [
      "(array([1, 3, 6, 9]),)\n"
     ]
    }
   ],
   "source": [
    "import numpy as np\n",
    "var = np.array([1,2,3,4,5,3,2,1,3,6]) \n",
    "#index          0,1,2,3,4,5,6,7,8,9\n",
    "\n",
    "x = np.where( (var%2) == 0 ) \n",
    "\n",
    "print(x) "
   ]
  },
  {
   "cell_type": "code",
   "execution_count": 31,
   "id": "6e6ef9b7",
   "metadata": {},
   "outputs": [
    {
     "name": "stdout",
     "output_type": "stream",
     "text": [
      "[ 1  2  3  4  5  6  8  9 10 11 12 13 14]\n",
      "5\n"
     ]
    }
   ],
   "source": [
    "var1 = np.array([1,2,3,4,5,6,8,9,10,11,12,13,14])\n",
    "#                0,1,2,3,4,5,6,7,8,,,9,10,11,12\n",
    "print(var1) \n",
    "x1 = np.searchsorted(x , 7 , side = \"left\") \n",
    "\n",
    "print(x1)  "
   ]
  },
  {
   "cell_type": "markdown",
   "id": "705b7c02",
   "metadata": {},
   "source": [
    "### Sort"
   ]
  },
  {
   "cell_type": "code",
   "execution_count": 32,
   "id": "9e134e17",
   "metadata": {},
   "outputs": [
    {
     "name": "stdout",
     "output_type": "stream",
     "text": [
      "[ 1  2  3  4  6  7  8  9 12 23 43 45 76 90]\n"
     ]
    }
   ],
   "source": [
    "var_x = np.array([9,8,7,6,1,2,3,4,23,45,76,43,12,90]) \n",
    "\n",
    "print(np.sort(var_x)) "
   ]
  },
  {
   "cell_type": "markdown",
   "id": "c53d52ef",
   "metadata": {},
   "source": [
    "### Filter Array"
   ]
  },
  {
   "cell_type": "code",
   "execution_count": 35,
   "id": "8eddb072",
   "metadata": {},
   "outputs": [
    {
     "name": "stdout",
     "output_type": "stream",
     "text": [
      "['a' 'b' 's' 'd' 't']\n",
      "\n",
      "['a' 'd']\n"
     ]
    }
   ],
   "source": [
    "var_3 = np.array([\"a\" , \"b\" , \"s\" , \"d\" , \"t\"]) \n",
    "\n",
    "f = [True,False,False,True,False]\n",
    "\n",
    "print(var_3)\n",
    "print() \n",
    "\n",
    "new_a = var_3[f]\n",
    "\n",
    "print(new_a)  "
   ]
  },
  {
   "cell_type": "markdown",
   "id": "f9899f6f",
   "metadata": {},
   "source": [
    "### Arithmetic Functions \n",
    "\n",
    "1. Shuffle\n",
    "2. Unique\n",
    "3. Resize\n",
    "4. Flatten - order('C' , 'F' , 'A' , 'K') \n",
    "5. Ravel"
   ]
  },
  {
   "cell_type": "code",
   "execution_count": 39,
   "id": "76c5470a",
   "metadata": {},
   "outputs": [
    {
     "name": "stdout",
     "output_type": "stream",
     "text": [
      "[1 8 4 3 6 5 7 9 2]\n"
     ]
    }
   ],
   "source": [
    "#Shuffle\n",
    "import numpy as np \n",
    "\n",
    "var = np.array([1,2,3,4,5,6,7,8,9]) \n",
    "np.random.shuffle(var) \n",
    "\n",
    "print(var) \n"
   ]
  },
  {
   "cell_type": "code",
   "execution_count": 43,
   "id": "29c58ba2",
   "metadata": {},
   "outputs": [
    {
     "name": "stdout",
     "output_type": "stream",
     "text": [
      "(array([1, 2, 3, 4, 5, 6, 7]), array([0, 1, 2, 3, 4, 6, 7]), array([1, 2, 1, 1, 1, 1, 1]))\n"
     ]
    }
   ],
   "source": [
    "#Unique \n",
    "var1 = np.array([1,2,3,4,5,2,6,7]) \n",
    "\n",
    "x = np.unique(var1 , return_index=True , return_counts=True) \n",
    "\n",
    "print(x) "
   ]
  },
  {
   "cell_type": "code",
   "execution_count": 46,
   "id": "6c174406",
   "metadata": {},
   "outputs": [
    {
     "name": "stdout",
     "output_type": "stream",
     "text": [
      "[[1 2 3 4]\n",
      " [5 6 7 8]]\n"
     ]
    }
   ],
   "source": [
    "#Resize\n",
    "var2 = np.array([1,2,3,4,5,6,7,8]) \n",
    "\n",
    "y = np.resize(var2,(2,4))\n",
    "\n",
    "print(y) "
   ]
  },
  {
   "cell_type": "code",
   "execution_count": 52,
   "id": "3a789df2",
   "metadata": {},
   "outputs": [
    {
     "name": "stdout",
     "output_type": "stream",
     "text": [
      "[[[[[[[[[[1 2 3 4 5]]]]]]]]]]\n",
      "\n",
      "[1 2 3 4 5]\n"
     ]
    }
   ],
   "source": [
    "# Flatten - Converts higher dimension to one dimension \n",
    "x = np.array([1,2,3,4,5] , ndmin = 10)\n",
    "print(x) \n",
    "print() \n",
    "print(x.flatten(order = \"F\")) "
   ]
  },
  {
   "cell_type": "code",
   "execution_count": 60,
   "id": "d78155ff",
   "metadata": {},
   "outputs": [
    {
     "name": "stdout",
     "output_type": "stream",
     "text": [
      "[[1 2 3 4 5 6 7 8 9]]\n",
      "\n",
      "[[1 2 3]\n",
      " [4 5 6]\n",
      " [7 8 9]]\n",
      "\n",
      "[1 2 3 4 5 6 7 8 9]\n"
     ]
    }
   ],
   "source": [
    "x = np.array([[1,2,3,4,5,6,7,8,9]])\n",
    "print(x)\n",
    "print()\n",
    "\n",
    "y = np.resize(x , (3,3))\n",
    "print(np.resize(x , (3,3)))\n",
    "print() \n",
    "\n",
    "print(y.ravel(order = \"C\")) "
   ]
  },
  {
   "cell_type": "markdown",
   "id": "5a45fcd0",
   "metadata": {},
   "source": [
    "### Insert"
   ]
  },
  {
   "cell_type": "code",
   "execution_count": 65,
   "id": "8fe88f9c",
   "metadata": {},
   "outputs": [
    {
     "name": "stdout",
     "output_type": "stream",
     "text": [
      "[1 2 3 4]\n",
      "\n",
      "[ 1  2 40  3  4 40]\n"
     ]
    }
   ],
   "source": [
    "import numpy as np\n",
    "\n",
    "var = np.array([1,2,3,4]) \n",
    "print(var)\n",
    "print() \n",
    "\n",
    "y = np.insert(var , (2,4) , 40)\n",
    "\n",
    "print(y) "
   ]
  },
  {
   "cell_type": "code",
   "execution_count": 79,
   "id": "539948e3",
   "metadata": {},
   "outputs": [
    {
     "name": "stdout",
     "output_type": "stream",
     "text": [
      "[[1 2 3]\n",
      " [4 5 6]\n",
      " [6 7 8]]\n"
     ]
    }
   ],
   "source": [
    "var1 = np.array([[1,2,3],[4,5,6]]) \n",
    "\n",
    "v1 = np.insert(var1, 2 , [6,7,8] , axis = 0) \n",
    "\n",
    "print(v1) "
   ]
  },
  {
   "cell_type": "markdown",
   "id": "8ae3b02b",
   "metadata": {},
   "source": [
    "### Delete"
   ]
  },
  {
   "cell_type": "code",
   "execution_count": 80,
   "id": "f6b9e946",
   "metadata": {},
   "outputs": [
    {
     "name": "stdout",
     "output_type": "stream",
     "text": [
      "[1 2 3 4]\n",
      "[1 2 4]\n"
     ]
    }
   ],
   "source": [
    "import numpy as np \n",
    "\n",
    "var1 = np.array([1,2,3,4]) \n",
    "\n",
    "print(var1) \n",
    "\n",
    "d = np.delete(var1 , 2) \n",
    "\n",
    "print(d) "
   ]
  },
  {
   "cell_type": "markdown",
   "id": "f1286143",
   "metadata": {},
   "source": [
    "### Matrix in Numpy"
   ]
  },
  {
   "cell_type": "code",
   "execution_count": 82,
   "id": "a9fb71f1",
   "metadata": {},
   "outputs": [
    {
     "name": "stdout",
     "output_type": "stream",
     "text": [
      "[[1 2 3]\n",
      " [4 5 6]]\n",
      "<class 'numpy.matrix'>\n"
     ]
    }
   ],
   "source": [
    "import numpy as np \n",
    "\n",
    "var = np.matrix([[1,2,3],[4,5,6]]) \n",
    "\n",
    "print(var) \n",
    "print(type(var))"
   ]
  },
  {
   "cell_type": "code",
   "execution_count": 87,
   "id": "b41b2380",
   "metadata": {},
   "outputs": [
    {
     "name": "stdout",
     "output_type": "stream",
     "text": [
      "[[1 2 3]\n",
      " [4 5 6]]\n",
      "Shape:  (2, 3)\n",
      "\n",
      "[[1 2 3]\n",
      " [4 5 6]]\n",
      "Shape:  (2, 3)\n",
      "\n",
      "[[ 2  4  6]\n",
      " [ 8 10 12]]\n",
      "Shape:  (2, 3)\n"
     ]
    }
   ],
   "source": [
    "var = np.matrix([[1,2,3],[4,5,6]])\n",
    "var1 = np.matrix([[1,2,3],[4,5,6]])\n",
    "print(var)\n",
    "print(\"Shape: \", np.shape(var)) \n",
    "print()\n",
    "print(var1)\n",
    "print(\"Shape: \", np.shape(var1)) \n",
    "print() \n",
    "print(var+var1)\n",
    "print(\"Shape: \", np.shape(var+var1)) "
   ]
  },
  {
   "cell_type": "code",
   "execution_count": 98,
   "id": "9c451416",
   "metadata": {},
   "outputs": [
    {
     "name": "stdout",
     "output_type": "stream",
     "text": [
      "[[1 2 3 4]\n",
      " [5 6 7 8]]\n",
      "Shape:  (2, 4)\n",
      "\n",
      "[[ 9 10 11 12]\n",
      " [13 14 15 16]]\n",
      "Shape:  (2, 4)\n",
      "\n",
      "Reshaped Array: \n",
      "[[ 9 10]\n",
      " [11 12]\n",
      " [13 14]\n",
      " [15 16]]\n",
      "Shape:  (4, 2)\n",
      "\n",
      "[[130 140]\n",
      " [322 348]]\n",
      "Shape:  (2, 2)\n"
     ]
    }
   ],
   "source": [
    "var = np.matrix([[1,2,3,4],[5,6,7,8]]) \n",
    "var1 = np.matrix([[9,10,11,12],[13,14,15,16]]) \n",
    "\n",
    "print(var)\n",
    "print(\"Shape: \", np.shape(var)) \n",
    "print() \n",
    "print(var1)\n",
    "print(\"Shape: \", np.shape(var1))\n",
    "print() \n",
    "\n",
    "var2 = var1.reshape(4,2) \n",
    "print(\"Reshaped Array: \") \n",
    "print(var2) \n",
    "print(\"Shape: \", np.shape(var2)) \n",
    "print() \n",
    "print(var.dot(var2))\n",
    "print(\"Shape: \" , np.shape(var.dot(var2))) "
   ]
  },
  {
   "cell_type": "markdown",
   "id": "5205bfb8",
   "metadata": {},
   "source": [
    "#### Matrix Function \n",
    "\n",
    "1. Transpose\n",
    "2. Swapaxes\n",
    "3. Inverse\n",
    "4. Power\n",
    "5. Determinant"
   ]
  },
  {
   "cell_type": "code",
   "execution_count": 100,
   "id": "4d5fa49b",
   "metadata": {},
   "outputs": [
    {
     "name": "stdout",
     "output_type": "stream",
     "text": [
      "[[1 2 3 4]\n",
      " [5 6 7 8]]\n",
      "\n"
     ]
    }
   ],
   "source": [
    "var1 = np.matrix([[1,2,3,4],\n",
    "                  [5,6,7,8]])  \n",
    "print(var1) \n",
    "print()            \n"
   ]
  },
  {
   "cell_type": "code",
   "execution_count": 106,
   "id": "e7ad8fe5",
   "metadata": {},
   "outputs": [
    {
     "name": "stdout",
     "output_type": "stream",
     "text": [
      "[[1 2 3 4]\n",
      " [5 6 7 8]]\n",
      "\n",
      "[[1 5]\n",
      " [2 6]\n",
      " [3 7]\n",
      " [4 8]]\n",
      "\n",
      "[[1 5]\n",
      " [2 6]\n",
      " [3 7]\n",
      " [4 8]]\n"
     ]
    }
   ],
   "source": [
    "var = np.matrix([[1,2,3,4],[5,6,7,8]]) \n",
    "print(var) \n",
    "print() \n",
    "\n",
    "var1 = var.T   #same\n",
    "print(var1)\n",
    "print() \n",
    "\n",
    "var2 = np.transpose(var)  #same\n",
    "print(var2) \n"
   ]
  },
  {
   "cell_type": "code",
   "execution_count": 115,
   "id": "7135ae31",
   "metadata": {},
   "outputs": [
    {
     "name": "stdout",
     "output_type": "stream",
     "text": [
      "[[ 1  2  3  4  5]\n",
      " [ 6  7  8  9 10]]\n",
      "\n",
      "[[ 1  6]\n",
      " [ 2  7]\n",
      " [ 3  8]\n",
      " [ 4  9]\n",
      " [ 5 10]]\n"
     ]
    }
   ],
   "source": [
    "x_1 = np.array([[1,2,3,4,5],[6,7,8,9,10]]) \n",
    "print(x_1)\n",
    "print() \n",
    "\n",
    "x_2 = np.swapaxes(x_1 , 0 , 1)  \n",
    "print(x_2) "
   ]
  },
  {
   "cell_type": "code",
   "execution_count": 117,
   "id": "a29c686d",
   "metadata": {},
   "outputs": [
    {
     "name": "stdout",
     "output_type": "stream",
     "text": [
      "[[18 12 13 16]\n",
      " [18 12 11 10]\n",
      " [ 1 43 23 12]\n",
      " [12 13 16 34]]\n",
      "\n",
      "[[-0.28154535  0.30459294 -0.02172111  0.05057204]\n",
      " [-0.76521307  0.65412038  0.00397944  0.16630741]\n",
      " [ 1.64135301 -1.39114575  0.0447687  -0.37904162]\n",
      " [-0.380451    0.29704858 -0.0149229   0.12634721]]\n"
     ]
    }
   ],
   "source": [
    "var_1 = np.matrix([[18,12,13,16],\n",
    "                   [18,12,11,10],\n",
    "                   [1,43,23,12],\n",
    "                   [12,13,16,34]]) \n",
    "print(var_1) \n",
    "print()\n",
    "\n",
    "var_2 = np.linalg.inv(var_1)  \n",
    "print(var_2) \n"
   ]
  },
  {
   "cell_type": "code",
   "execution_count": 126,
   "id": "8fbab918",
   "metadata": {},
   "outputs": [
    {
     "name": "stdout",
     "output_type": "stream",
     "text": [
      "[[ 1  2  3]\n",
      " [ 4  5  6]\n",
      " [ 7  8 10]]\n",
      "\n",
      "[[  2.33333333  -6.           3.        ]\n",
      " [ -4.          18.33333333 -10.        ]\n",
      " [  1.66666667 -10.66666667   6.        ]]\n",
      "\n"
     ]
    }
   ],
   "source": [
    "var_1 = np.matrix([[1,2,3],\n",
    "                   [4,5,6],\n",
    "                   [7,8,10]])\n",
    "print(var_1) \n",
    "print() \n",
    "\n",
    "print(np.linalg.matrix_power(var_1,-2))\n",
    "print() "
   ]
  },
  {
   "cell_type": "code",
   "execution_count": 127,
   "id": "f6ce20d6",
   "metadata": {},
   "outputs": [
    {
     "name": "stdout",
     "output_type": "stream",
     "text": [
      "[[1 2 3]\n",
      " [4 5 6]\n",
      " [7 8 9]]\n",
      "\n",
      "0.0\n"
     ]
    }
   ],
   "source": [
    "var1 = np.matrix([[1,2,3],\n",
    "                  [4,5,6],\n",
    "                  [7,8,9]])\n",
    "print(var1) \n",
    "print() \n",
    "var_1 = np.linalg.det(var1) \n",
    "print(var_1) "
   ]
  }
 ],
 "metadata": {
  "kernelspec": {
   "display_name": "Python 3",
   "language": "python",
   "name": "python3"
  },
  "language_info": {
   "codemirror_mode": {
    "name": "ipython",
    "version": 3
   },
   "file_extension": ".py",
   "mimetype": "text/x-python",
   "name": "python",
   "nbconvert_exporter": "python",
   "pygments_lexer": "ipython3",
   "version": "3.13.5"
  }
 },
 "nbformat": 4,
 "nbformat_minor": 5
}
