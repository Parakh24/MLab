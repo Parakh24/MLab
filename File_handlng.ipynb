{
 "cells": [
  {
   "cell_type": "markdown",
   "id": "9e5d22e0",
   "metadata": {},
   "source": [
    "**File Handling**"
   ]
  },
  {
   "cell_type": "code",
   "execution_count": 35,
   "id": "960bac8c",
   "metadata": {},
   "outputs": [
    {
     "name": "stdout",
     "output_type": "stream",
     "text": [
      "Hello World!\n"
     ]
    }
   ],
   "source": [
    "f = open(\"D:\\YHills_ML\\simple.txt\" , 'r')\n",
    "print(f.read())                          "
   ]
  },
  {
   "cell_type": "code",
   "execution_count": 34,
   "id": "8a1374dc",
   "metadata": {},
   "outputs": [],
   "source": [
    "f = open(\"D:\\YHills_ML\\simple.txt\" , 'w')\n",
    "f.write('Hello World!')       \n",
    "f.close()                                    \n"
   ]
  },
  {
   "cell_type": "code",
   "execution_count": 16,
   "id": "6068bba1",
   "metadata": {},
   "outputs": [],
   "source": [
    "f = open(\"NewBook.txt\" , 'x')\n",
    "f.close()"
   ]
  },
  {
   "cell_type": "markdown",
   "id": "d6fa5067",
   "metadata": {},
   "source": [
    "**Conditional Statements**"
   ]
  },
  {
   "cell_type": "code",
   "execution_count": 17,
   "id": "fd9b9a98",
   "metadata": {},
   "outputs": [
    {
     "name": "stdout",
     "output_type": "stream",
     "text": [
      "I will not go anywhere\n"
     ]
    }
   ],
   "source": [
    "weather = input(\"Enter the weather: \").lower()\n",
    "\n",
    "if weather == 'sunny':\n",
    "    print(\"I will go out and walk 10 kms\")\n",
    "elif weather == 'rainy':\n",
    "    print(\"I will go out and walk 5 km \")\n",
    "elif weather == 'monsoon':\n",
    "    print(\"I will go out and walk 2 kms \")\n",
    "else:\n",
    "    print(\"I will not go anywhere\")"
   ]
  },
  {
   "cell_type": "markdown",
   "id": "7ec713ab",
   "metadata": {},
   "source": [
    "**Loops**"
   ]
  },
  {
   "cell_type": "code",
   "execution_count": null,
   "id": "3e508739",
   "metadata": {},
   "outputs": [
    {
     "name": "stdout",
     "output_type": "stream",
     "text": [
      "1\n",
      "2\n",
      "3\n",
      "4\n"
     ]
    }
   ],
   "source": [
    "for i in range (1,10):\n",
    "    if i == 5:\n",
    "        break\n",
    "    print(i)           "
   ]
  },
  {
   "cell_type": "code",
   "execution_count": 19,
   "id": "1cb84570",
   "metadata": {},
   "outputs": [
    {
     "name": "stdout",
     "output_type": "stream",
     "text": [
      "1\n",
      "2\n",
      "3\n",
      "4\n",
      "6\n",
      "7\n",
      "8\n",
      "9\n"
     ]
    }
   ],
   "source": [
    "for i in range (1,10):\n",
    "    if i == 5:\n",
    "        continue\n",
    "    print(i)"
   ]
  }
 ],
 "metadata": {
  "kernelspec": {
   "display_name": "Python 3",
   "language": "python",
   "name": "python3"
  },
  "language_info": {
   "codemirror_mode": {
    "name": "ipython",
    "version": 3
   },
   "file_extension": ".py",
   "mimetype": "text/x-python",
   "name": "python",
   "nbconvert_exporter": "python",
   "pygments_lexer": "ipython3",
   "version": "3.11.11"
  }
 },
 "nbformat": 4,
 "nbformat_minor": 5
}
